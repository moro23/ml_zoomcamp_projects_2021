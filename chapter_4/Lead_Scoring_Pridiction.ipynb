{
 "cells": [
  {
   "cell_type": "markdown",
   "id": "c94d3bc2",
   "metadata": {},
   "source": [
    "# Problem Statement"
   ]
  },
  {
   "cell_type": "markdown",
   "id": "c030d9c6",
   "metadata": {},
   "source": [
    "Classification models are often used for marketing purposes, and one of the  problems it solves is lead scoring. <br>\n",
    "A lead is a potential customer who may convert(become an actual customer) or not. In this case, the conversion is the target we want to predict. <br>\n",
    "You can take a dataset from https://www.kaggle.com/ashydv/leads-dataset and build a model for that. <br>\n",
    "You may notice that the lead-scoring problem is similar to churn prediction, but in one case, we want to get a new client to sign a contract with us, and in another case, we want a client not to cancel\n",
    "the contract."
   ]
  },
  {
   "cell_type": "code",
   "execution_count": null,
   "id": "1fdc2983",
   "metadata": {},
   "outputs": [],
   "source": []
  }
 ],
 "metadata": {
  "kernelspec": {
   "display_name": "Python 3 (ipykernel)",
   "language": "python",
   "name": "python3"
  },
  "language_info": {
   "codemirror_mode": {
    "name": "ipython",
    "version": 3
   },
   "file_extension": ".py",
   "mimetype": "text/x-python",
   "name": "python",
   "nbconvert_exporter": "python",
   "pygments_lexer": "ipython3",
   "version": "3.9.10"
  }
 },
 "nbformat": 4,
 "nbformat_minor": 5
}
