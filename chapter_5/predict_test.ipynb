{
 "cells": [
  {
   "cell_type": "code",
   "execution_count": 1,
   "id": "887f3076",
   "metadata": {},
   "outputs": [
    {
     "data": {
      "application/javascript": [
       "IPython.notebook.set_autosave_interval(60000)"
      ]
     },
     "metadata": {},
     "output_type": "display_data"
    },
    {
     "name": "stdout",
     "output_type": "stream",
     "text": [
      "Autosaving every 60 seconds\n"
     ]
    }
   ],
   "source": [
    "%autosave 60 "
   ]
  },
  {
   "cell_type": "code",
   "execution_count": 2,
   "id": "4a2adff2",
   "metadata": {},
   "outputs": [],
   "source": [
    "import requests\n",
    "import json"
   ]
  },
  {
   "cell_type": "code",
   "execution_count": 3,
   "id": "77569821",
   "metadata": {},
   "outputs": [],
   "source": [
    "customer = {\n",
    "\"customerid\": \"8879-zkjof\",\n",
    "\"gender\": \"female\",\n",
    "\"seniorcitizen\": 0,\n",
    "\"partner\": \"no\",\n",
    "\"dependents\": \"no\",\n",
    "\"tenure\": 41,\n",
    "\"phoneservice\": \"yes\",\n",
    "\"multiplelines\": \"no\",\n",
    "\"internetservice\": \"dsl\",\n",
    "\"onlinesecurity\": \"yes\",\n",
    "\"onlinebackup\": \"no\",\n",
    "\"deviceprotection\": \"yes\",\n",
    "\"techsupport\": \"yes\",\n",
    "\"streamingtv\": \"yes\",\n",
    "\"streamingmovies\": \"yes\",\n",
    "\"contract\": \"one_year\",\n",
    "\"paperlessbilling\": \"yes\",\n",
    "\"paymentmethod\": \"bank_transfer_(automatic)\",\n",
    "\"monthlycharges\": 79.85,\n",
    "\"totalcharges\": 3320.75,\n",
    "}"
   ]
  },
  {
   "cell_type": "code",
   "execution_count": 4,
   "id": "c180288f",
   "metadata": {},
   "outputs": [],
   "source": [
    "url = 'http://localhost:9696/predict'\n",
    "response = requests.post(url, json=customer)\n",
    "result = response.json()"
   ]
  },
  {
   "cell_type": "code",
   "execution_count": 5,
   "id": "2f3c6066",
   "metadata": {},
   "outputs": [
    {
     "name": "stdout",
     "output_type": "stream",
     "text": [
      "{\n",
      "  \"churn\": false,\n",
      "  \"churn_probability\": 0.0618756855983274\n",
      "}\n"
     ]
    }
   ],
   "source": [
    "print(json.dumps(result, indent=2))"
   ]
  },
  {
   "cell_type": "code",
   "execution_count": 6,
   "id": "665d9b99",
   "metadata": {},
   "outputs": [
    {
     "name": "stdout",
     "output_type": "stream",
     "text": [
      "Don't send anything.\n"
     ]
    }
   ],
   "source": [
    "if result['churn'] == True:\n",
    "    print('Sending promo email to %s' % ('xyz-123'))\n",
    "else:\n",
    "    print(\"Don't send anything.\")"
   ]
  },
  {
   "cell_type": "code",
   "execution_count": null,
   "id": "df9a8f7f",
   "metadata": {},
   "outputs": [],
   "source": []
  },
  {
   "cell_type": "code",
   "execution_count": null,
   "id": "642f9f64",
   "metadata": {},
   "outputs": [],
   "source": []
  },
  {
   "cell_type": "code",
   "execution_count": null,
   "id": "415b85bd",
   "metadata": {},
   "outputs": [],
   "source": []
  },
  {
   "cell_type": "code",
   "execution_count": null,
   "id": "cbd6392d",
   "metadata": {},
   "outputs": [],
   "source": []
  },
  {
   "cell_type": "code",
   "execution_count": null,
   "id": "cb04b1b9",
   "metadata": {},
   "outputs": [],
   "source": []
  }
 ],
 "metadata": {
  "kernelspec": {
   "display_name": "Python 3 (ipykernel)",
   "language": "python",
   "name": "python3"
  },
  "language_info": {
   "codemirror_mode": {
    "name": "ipython",
    "version": 3
   },
   "file_extension": ".py",
   "mimetype": "text/x-python",
   "name": "python",
   "nbconvert_exporter": "python",
   "pygments_lexer": "ipython3",
   "version": "3.9.9"
  }
 },
 "nbformat": 4,
 "nbformat_minor": 5
}
