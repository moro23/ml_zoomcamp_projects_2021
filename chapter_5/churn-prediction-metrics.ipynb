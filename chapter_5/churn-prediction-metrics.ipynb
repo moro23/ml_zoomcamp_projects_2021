{
 "cells": [
  {
   "cell_type": "code",
   "execution_count": null,
   "metadata": {
    "_cell_guid": "b1076dfc-b9ad-4769-8c92-a6c4dae69d19",
    "_uuid": "8f2839f25d086af736a60e9eeb907d3b93b6e0e5",
    "execution": {
     "iopub.execute_input": "2021-12-16T13:37:42.236855Z",
     "iopub.status.busy": "2021-12-16T13:37:42.236447Z",
     "iopub.status.idle": "2021-12-16T13:37:42.274465Z",
     "shell.execute_reply": "2021-12-16T13:37:42.273733Z",
     "shell.execute_reply.started": "2021-12-16T13:37:42.236783Z"
    }
   },
   "outputs": [],
   "source": []
  },
  {
   "cell_type": "markdown",
   "metadata": {},
   "source": [
    "### Let's load and Prepare our data"
   ]
  },
  {
   "cell_type": "code",
   "execution_count": 1,
   "metadata": {
    "execution": {
     "iopub.execute_input": "2021-12-16T13:37:42.27642Z",
     "iopub.status.busy": "2021-12-16T13:37:42.27616Z",
     "iopub.status.idle": "2021-12-16T13:37:43.349081Z",
     "shell.execute_reply": "2021-12-16T13:37:43.348167Z",
     "shell.execute_reply.started": "2021-12-16T13:37:42.276384Z"
    }
   },
   "outputs": [],
   "source": [
    "## import all relevant libraries\n",
    "import numpy as np\n",
    "import pandas as pd\n",
    "import os\n",
    "import seaborn as sn\n",
    "from matplotlib import pyplot as plt\n",
    "%matplotlib inline \n",
    "\n",
    "\n"
   ]
  },
  {
   "cell_type": "code",
   "execution_count": 2,
   "metadata": {
    "execution": {
     "iopub.execute_input": "2021-12-16T13:37:43.350149Z",
     "iopub.status.busy": "2021-12-16T13:37:43.349968Z",
     "iopub.status.idle": "2021-12-16T13:37:43.442279Z",
     "shell.execute_reply": "2021-12-16T13:37:43.44134Z",
     "shell.execute_reply.started": "2021-12-16T13:37:43.350126Z"
    }
   },
   "outputs": [
    {
     "data": {
      "text/html": [
       "<div>\n",
       "<style scoped>\n",
       "    .dataframe tbody tr th:only-of-type {\n",
       "        vertical-align: middle;\n",
       "    }\n",
       "\n",
       "    .dataframe tbody tr th {\n",
       "        vertical-align: top;\n",
       "    }\n",
       "\n",
       "    .dataframe thead th {\n",
       "        text-align: right;\n",
       "    }\n",
       "</style>\n",
       "<table border=\"1\" class=\"dataframe\">\n",
       "  <thead>\n",
       "    <tr style=\"text-align: right;\">\n",
       "      <th></th>\n",
       "      <th>customerID</th>\n",
       "      <th>gender</th>\n",
       "      <th>SeniorCitizen</th>\n",
       "      <th>Partner</th>\n",
       "      <th>Dependents</th>\n",
       "      <th>tenure</th>\n",
       "      <th>PhoneService</th>\n",
       "      <th>MultipleLines</th>\n",
       "      <th>InternetService</th>\n",
       "      <th>OnlineSecurity</th>\n",
       "      <th>...</th>\n",
       "      <th>DeviceProtection</th>\n",
       "      <th>TechSupport</th>\n",
       "      <th>StreamingTV</th>\n",
       "      <th>StreamingMovies</th>\n",
       "      <th>Contract</th>\n",
       "      <th>PaperlessBilling</th>\n",
       "      <th>PaymentMethod</th>\n",
       "      <th>MonthlyCharges</th>\n",
       "      <th>TotalCharges</th>\n",
       "      <th>Churn</th>\n",
       "    </tr>\n",
       "  </thead>\n",
       "  <tbody>\n",
       "    <tr>\n",
       "      <th>0</th>\n",
       "      <td>7590-VHVEG</td>\n",
       "      <td>Female</td>\n",
       "      <td>0</td>\n",
       "      <td>Yes</td>\n",
       "      <td>No</td>\n",
       "      <td>1</td>\n",
       "      <td>No</td>\n",
       "      <td>No phone service</td>\n",
       "      <td>DSL</td>\n",
       "      <td>No</td>\n",
       "      <td>...</td>\n",
       "      <td>No</td>\n",
       "      <td>No</td>\n",
       "      <td>No</td>\n",
       "      <td>No</td>\n",
       "      <td>Month-to-month</td>\n",
       "      <td>Yes</td>\n",
       "      <td>Electronic check</td>\n",
       "      <td>29.85</td>\n",
       "      <td>29.85</td>\n",
       "      <td>No</td>\n",
       "    </tr>\n",
       "    <tr>\n",
       "      <th>1</th>\n",
       "      <td>5575-GNVDE</td>\n",
       "      <td>Male</td>\n",
       "      <td>0</td>\n",
       "      <td>No</td>\n",
       "      <td>No</td>\n",
       "      <td>34</td>\n",
       "      <td>Yes</td>\n",
       "      <td>No</td>\n",
       "      <td>DSL</td>\n",
       "      <td>Yes</td>\n",
       "      <td>...</td>\n",
       "      <td>Yes</td>\n",
       "      <td>No</td>\n",
       "      <td>No</td>\n",
       "      <td>No</td>\n",
       "      <td>One year</td>\n",
       "      <td>No</td>\n",
       "      <td>Mailed check</td>\n",
       "      <td>56.95</td>\n",
       "      <td>1889.5</td>\n",
       "      <td>No</td>\n",
       "    </tr>\n",
       "    <tr>\n",
       "      <th>2</th>\n",
       "      <td>3668-QPYBK</td>\n",
       "      <td>Male</td>\n",
       "      <td>0</td>\n",
       "      <td>No</td>\n",
       "      <td>No</td>\n",
       "      <td>2</td>\n",
       "      <td>Yes</td>\n",
       "      <td>No</td>\n",
       "      <td>DSL</td>\n",
       "      <td>Yes</td>\n",
       "      <td>...</td>\n",
       "      <td>No</td>\n",
       "      <td>No</td>\n",
       "      <td>No</td>\n",
       "      <td>No</td>\n",
       "      <td>Month-to-month</td>\n",
       "      <td>Yes</td>\n",
       "      <td>Mailed check</td>\n",
       "      <td>53.85</td>\n",
       "      <td>108.15</td>\n",
       "      <td>Yes</td>\n",
       "    </tr>\n",
       "    <tr>\n",
       "      <th>3</th>\n",
       "      <td>7795-CFOCW</td>\n",
       "      <td>Male</td>\n",
       "      <td>0</td>\n",
       "      <td>No</td>\n",
       "      <td>No</td>\n",
       "      <td>45</td>\n",
       "      <td>No</td>\n",
       "      <td>No phone service</td>\n",
       "      <td>DSL</td>\n",
       "      <td>Yes</td>\n",
       "      <td>...</td>\n",
       "      <td>Yes</td>\n",
       "      <td>Yes</td>\n",
       "      <td>No</td>\n",
       "      <td>No</td>\n",
       "      <td>One year</td>\n",
       "      <td>No</td>\n",
       "      <td>Bank transfer (automatic)</td>\n",
       "      <td>42.30</td>\n",
       "      <td>1840.75</td>\n",
       "      <td>No</td>\n",
       "    </tr>\n",
       "    <tr>\n",
       "      <th>4</th>\n",
       "      <td>9237-HQITU</td>\n",
       "      <td>Female</td>\n",
       "      <td>0</td>\n",
       "      <td>No</td>\n",
       "      <td>No</td>\n",
       "      <td>2</td>\n",
       "      <td>Yes</td>\n",
       "      <td>No</td>\n",
       "      <td>Fiber optic</td>\n",
       "      <td>No</td>\n",
       "      <td>...</td>\n",
       "      <td>No</td>\n",
       "      <td>No</td>\n",
       "      <td>No</td>\n",
       "      <td>No</td>\n",
       "      <td>Month-to-month</td>\n",
       "      <td>Yes</td>\n",
       "      <td>Electronic check</td>\n",
       "      <td>70.70</td>\n",
       "      <td>151.65</td>\n",
       "      <td>Yes</td>\n",
       "    </tr>\n",
       "  </tbody>\n",
       "</table>\n",
       "<p>5 rows × 21 columns</p>\n",
       "</div>"
      ],
      "text/plain": [
       "   customerID  gender  SeniorCitizen Partner Dependents  tenure PhoneService  \\\n",
       "0  7590-VHVEG  Female              0     Yes         No       1           No   \n",
       "1  5575-GNVDE    Male              0      No         No      34          Yes   \n",
       "2  3668-QPYBK    Male              0      No         No       2          Yes   \n",
       "3  7795-CFOCW    Male              0      No         No      45           No   \n",
       "4  9237-HQITU  Female              0      No         No       2          Yes   \n",
       "\n",
       "      MultipleLines InternetService OnlineSecurity  ... DeviceProtection  \\\n",
       "0  No phone service             DSL             No  ...               No   \n",
       "1                No             DSL            Yes  ...              Yes   \n",
       "2                No             DSL            Yes  ...               No   \n",
       "3  No phone service             DSL            Yes  ...              Yes   \n",
       "4                No     Fiber optic             No  ...               No   \n",
       "\n",
       "  TechSupport StreamingTV StreamingMovies        Contract PaperlessBilling  \\\n",
       "0          No          No              No  Month-to-month              Yes   \n",
       "1          No          No              No        One year               No   \n",
       "2          No          No              No  Month-to-month              Yes   \n",
       "3         Yes          No              No        One year               No   \n",
       "4          No          No              No  Month-to-month              Yes   \n",
       "\n",
       "               PaymentMethod MonthlyCharges  TotalCharges Churn  \n",
       "0           Electronic check          29.85         29.85    No  \n",
       "1               Mailed check          56.95        1889.5    No  \n",
       "2               Mailed check          53.85        108.15   Yes  \n",
       "3  Bank transfer (automatic)          42.30       1840.75    No  \n",
       "4           Electronic check          70.70        151.65   Yes  \n",
       "\n",
       "[5 rows x 21 columns]"
      ]
     },
     "execution_count": 2,
     "metadata": {},
     "output_type": "execute_result"
    }
   ],
   "source": [
    "##lets load our dataset\n",
    "df = pd.read_csv('../chapter_5/WA_Fn-UseC_-Telco-Customer-Churn.csv')\n",
    "df.head()"
   ]
  },
  {
   "cell_type": "code",
   "execution_count": 3,
   "metadata": {
    "execution": {
     "iopub.execute_input": "2021-12-16T13:37:43.44457Z",
     "iopub.status.busy": "2021-12-16T13:37:43.444306Z",
     "iopub.status.idle": "2021-12-16T13:37:43.469323Z",
     "shell.execute_reply": "2021-12-16T13:37:43.468464Z",
     "shell.execute_reply.started": "2021-12-16T13:37:43.444541Z"
    }
   },
   "outputs": [
    {
     "data": {
      "text/html": [
       "<div>\n",
       "<style scoped>\n",
       "    .dataframe tbody tr th:only-of-type {\n",
       "        vertical-align: middle;\n",
       "    }\n",
       "\n",
       "    .dataframe tbody tr th {\n",
       "        vertical-align: top;\n",
       "    }\n",
       "\n",
       "    .dataframe thead th {\n",
       "        text-align: right;\n",
       "    }\n",
       "</style>\n",
       "<table border=\"1\" class=\"dataframe\">\n",
       "  <thead>\n",
       "    <tr style=\"text-align: right;\">\n",
       "      <th></th>\n",
       "      <th>customerid</th>\n",
       "      <th>gender</th>\n",
       "      <th>seniorcitizen</th>\n",
       "      <th>partner</th>\n",
       "      <th>dependents</th>\n",
       "      <th>tenure</th>\n",
       "      <th>phoneservice</th>\n",
       "      <th>multiplelines</th>\n",
       "      <th>internetservice</th>\n",
       "      <th>onlinesecurity</th>\n",
       "      <th>...</th>\n",
       "      <th>deviceprotection</th>\n",
       "      <th>techsupport</th>\n",
       "      <th>streamingtv</th>\n",
       "      <th>streamingmovies</th>\n",
       "      <th>contract</th>\n",
       "      <th>paperlessbilling</th>\n",
       "      <th>paymentmethod</th>\n",
       "      <th>monthlycharges</th>\n",
       "      <th>totalcharges</th>\n",
       "      <th>churn</th>\n",
       "    </tr>\n",
       "  </thead>\n",
       "  <tbody>\n",
       "    <tr>\n",
       "      <th>0</th>\n",
       "      <td>7590-VHVEG</td>\n",
       "      <td>Female</td>\n",
       "      <td>0</td>\n",
       "      <td>Yes</td>\n",
       "      <td>No</td>\n",
       "      <td>1</td>\n",
       "      <td>No</td>\n",
       "      <td>No phone service</td>\n",
       "      <td>DSL</td>\n",
       "      <td>No</td>\n",
       "      <td>...</td>\n",
       "      <td>No</td>\n",
       "      <td>No</td>\n",
       "      <td>No</td>\n",
       "      <td>No</td>\n",
       "      <td>Month-to-month</td>\n",
       "      <td>Yes</td>\n",
       "      <td>Electronic check</td>\n",
       "      <td>29.85</td>\n",
       "      <td>29.85</td>\n",
       "      <td>No</td>\n",
       "    </tr>\n",
       "    <tr>\n",
       "      <th>1</th>\n",
       "      <td>5575-GNVDE</td>\n",
       "      <td>Male</td>\n",
       "      <td>0</td>\n",
       "      <td>No</td>\n",
       "      <td>No</td>\n",
       "      <td>34</td>\n",
       "      <td>Yes</td>\n",
       "      <td>No</td>\n",
       "      <td>DSL</td>\n",
       "      <td>Yes</td>\n",
       "      <td>...</td>\n",
       "      <td>Yes</td>\n",
       "      <td>No</td>\n",
       "      <td>No</td>\n",
       "      <td>No</td>\n",
       "      <td>One year</td>\n",
       "      <td>No</td>\n",
       "      <td>Mailed check</td>\n",
       "      <td>56.95</td>\n",
       "      <td>1889.5</td>\n",
       "      <td>No</td>\n",
       "    </tr>\n",
       "    <tr>\n",
       "      <th>2</th>\n",
       "      <td>3668-QPYBK</td>\n",
       "      <td>Male</td>\n",
       "      <td>0</td>\n",
       "      <td>No</td>\n",
       "      <td>No</td>\n",
       "      <td>2</td>\n",
       "      <td>Yes</td>\n",
       "      <td>No</td>\n",
       "      <td>DSL</td>\n",
       "      <td>Yes</td>\n",
       "      <td>...</td>\n",
       "      <td>No</td>\n",
       "      <td>No</td>\n",
       "      <td>No</td>\n",
       "      <td>No</td>\n",
       "      <td>Month-to-month</td>\n",
       "      <td>Yes</td>\n",
       "      <td>Mailed check</td>\n",
       "      <td>53.85</td>\n",
       "      <td>108.15</td>\n",
       "      <td>Yes</td>\n",
       "    </tr>\n",
       "    <tr>\n",
       "      <th>3</th>\n",
       "      <td>7795-CFOCW</td>\n",
       "      <td>Male</td>\n",
       "      <td>0</td>\n",
       "      <td>No</td>\n",
       "      <td>No</td>\n",
       "      <td>45</td>\n",
       "      <td>No</td>\n",
       "      <td>No phone service</td>\n",
       "      <td>DSL</td>\n",
       "      <td>Yes</td>\n",
       "      <td>...</td>\n",
       "      <td>Yes</td>\n",
       "      <td>Yes</td>\n",
       "      <td>No</td>\n",
       "      <td>No</td>\n",
       "      <td>One year</td>\n",
       "      <td>No</td>\n",
       "      <td>Bank transfer (automatic)</td>\n",
       "      <td>42.30</td>\n",
       "      <td>1840.75</td>\n",
       "      <td>No</td>\n",
       "    </tr>\n",
       "    <tr>\n",
       "      <th>4</th>\n",
       "      <td>9237-HQITU</td>\n",
       "      <td>Female</td>\n",
       "      <td>0</td>\n",
       "      <td>No</td>\n",
       "      <td>No</td>\n",
       "      <td>2</td>\n",
       "      <td>Yes</td>\n",
       "      <td>No</td>\n",
       "      <td>Fiber optic</td>\n",
       "      <td>No</td>\n",
       "      <td>...</td>\n",
       "      <td>No</td>\n",
       "      <td>No</td>\n",
       "      <td>No</td>\n",
       "      <td>No</td>\n",
       "      <td>Month-to-month</td>\n",
       "      <td>Yes</td>\n",
       "      <td>Electronic check</td>\n",
       "      <td>70.70</td>\n",
       "      <td>151.65</td>\n",
       "      <td>Yes</td>\n",
       "    </tr>\n",
       "  </tbody>\n",
       "</table>\n",
       "<p>5 rows × 21 columns</p>\n",
       "</div>"
      ],
      "text/plain": [
       "   customerid  gender  seniorcitizen partner dependents  tenure phoneservice  \\\n",
       "0  7590-VHVEG  Female              0     Yes         No       1           No   \n",
       "1  5575-GNVDE    Male              0      No         No      34          Yes   \n",
       "2  3668-QPYBK    Male              0      No         No       2          Yes   \n",
       "3  7795-CFOCW    Male              0      No         No      45           No   \n",
       "4  9237-HQITU  Female              0      No         No       2          Yes   \n",
       "\n",
       "      multiplelines internetservice onlinesecurity  ... deviceprotection  \\\n",
       "0  No phone service             DSL             No  ...               No   \n",
       "1                No             DSL            Yes  ...              Yes   \n",
       "2                No             DSL            Yes  ...               No   \n",
       "3  No phone service             DSL            Yes  ...              Yes   \n",
       "4                No     Fiber optic             No  ...               No   \n",
       "\n",
       "  techsupport streamingtv streamingmovies        contract paperlessbilling  \\\n",
       "0          No          No              No  Month-to-month              Yes   \n",
       "1          No          No              No        One year               No   \n",
       "2          No          No              No  Month-to-month              Yes   \n",
       "3         Yes          No              No        One year               No   \n",
       "4          No          No              No  Month-to-month              Yes   \n",
       "\n",
       "               paymentmethod monthlycharges  totalcharges churn  \n",
       "0           Electronic check          29.85         29.85    No  \n",
       "1               Mailed check          56.95        1889.5    No  \n",
       "2               Mailed check          53.85        108.15   Yes  \n",
       "3  Bank transfer (automatic)          42.30       1840.75    No  \n",
       "4           Electronic check          70.70        151.65   Yes  \n",
       "\n",
       "[5 rows x 21 columns]"
      ]
     },
     "execution_count": 3,
     "metadata": {},
     "output_type": "execute_result"
    }
   ],
   "source": [
    "##lets normalize all the column names in our dataset\n",
    "df.columns = df.columns.str.lower().str.replace(' ', '_')\n",
    "df.head()"
   ]
  },
  {
   "cell_type": "code",
   "execution_count": 4,
   "metadata": {
    "execution": {
     "iopub.execute_input": "2021-12-16T13:37:43.471216Z",
     "iopub.status.busy": "2021-12-16T13:37:43.470833Z",
     "iopub.status.idle": "2021-12-16T13:37:43.487292Z",
     "shell.execute_reply": "2021-12-16T13:37:43.48653Z",
     "shell.execute_reply.started": "2021-12-16T13:37:43.47119Z"
    }
   },
   "outputs": [
    {
     "data": {
      "text/plain": [
       "customerid           object\n",
       "gender               object\n",
       "seniorcitizen         int64\n",
       "partner              object\n",
       "dependents           object\n",
       "tenure                int64\n",
       "phoneservice         object\n",
       "multiplelines        object\n",
       "internetservice      object\n",
       "onlinesecurity       object\n",
       "onlinebackup         object\n",
       "deviceprotection     object\n",
       "techsupport          object\n",
       "streamingtv          object\n",
       "streamingmovies      object\n",
       "contract             object\n",
       "paperlessbilling     object\n",
       "paymentmethod        object\n",
       "monthlycharges      float64\n",
       "totalcharges         object\n",
       "churn                object\n",
       "dtype: object"
      ]
     },
     "execution_count": 4,
     "metadata": {},
     "output_type": "execute_result"
    }
   ],
   "source": [
    "##lets check for column types\n",
    "df.dtypes"
   ]
  },
  {
   "cell_type": "code",
   "execution_count": 5,
   "metadata": {
    "execution": {
     "iopub.execute_input": "2021-12-16T13:37:43.488671Z",
     "iopub.status.busy": "2021-12-16T13:37:43.488262Z",
     "iopub.status.idle": "2021-12-16T13:37:43.609786Z",
     "shell.execute_reply": "2021-12-16T13:37:43.609015Z",
     "shell.execute_reply.started": "2021-12-16T13:37:43.488647Z"
    }
   },
   "outputs": [
    {
     "data": {
      "text/html": [
       "<div>\n",
       "<style scoped>\n",
       "    .dataframe tbody tr th:only-of-type {\n",
       "        vertical-align: middle;\n",
       "    }\n",
       "\n",
       "    .dataframe tbody tr th {\n",
       "        vertical-align: top;\n",
       "    }\n",
       "\n",
       "    .dataframe thead th {\n",
       "        text-align: right;\n",
       "    }\n",
       "</style>\n",
       "<table border=\"1\" class=\"dataframe\">\n",
       "  <thead>\n",
       "    <tr style=\"text-align: right;\">\n",
       "      <th></th>\n",
       "      <th>customerid</th>\n",
       "      <th>gender</th>\n",
       "      <th>seniorcitizen</th>\n",
       "      <th>partner</th>\n",
       "      <th>dependents</th>\n",
       "      <th>tenure</th>\n",
       "      <th>phoneservice</th>\n",
       "      <th>multiplelines</th>\n",
       "      <th>internetservice</th>\n",
       "      <th>onlinesecurity</th>\n",
       "      <th>...</th>\n",
       "      <th>deviceprotection</th>\n",
       "      <th>techsupport</th>\n",
       "      <th>streamingtv</th>\n",
       "      <th>streamingmovies</th>\n",
       "      <th>contract</th>\n",
       "      <th>paperlessbilling</th>\n",
       "      <th>paymentmethod</th>\n",
       "      <th>monthlycharges</th>\n",
       "      <th>totalcharges</th>\n",
       "      <th>churn</th>\n",
       "    </tr>\n",
       "  </thead>\n",
       "  <tbody>\n",
       "    <tr>\n",
       "      <th>0</th>\n",
       "      <td>7590-vhveg</td>\n",
       "      <td>female</td>\n",
       "      <td>0</td>\n",
       "      <td>yes</td>\n",
       "      <td>no</td>\n",
       "      <td>1</td>\n",
       "      <td>no</td>\n",
       "      <td>no_phone_service</td>\n",
       "      <td>dsl</td>\n",
       "      <td>no</td>\n",
       "      <td>...</td>\n",
       "      <td>no</td>\n",
       "      <td>no</td>\n",
       "      <td>no</td>\n",
       "      <td>no</td>\n",
       "      <td>month-to-month</td>\n",
       "      <td>yes</td>\n",
       "      <td>electronic_check</td>\n",
       "      <td>29.85</td>\n",
       "      <td>29.85</td>\n",
       "      <td>no</td>\n",
       "    </tr>\n",
       "    <tr>\n",
       "      <th>1</th>\n",
       "      <td>5575-gnvde</td>\n",
       "      <td>male</td>\n",
       "      <td>0</td>\n",
       "      <td>no</td>\n",
       "      <td>no</td>\n",
       "      <td>34</td>\n",
       "      <td>yes</td>\n",
       "      <td>no</td>\n",
       "      <td>dsl</td>\n",
       "      <td>yes</td>\n",
       "      <td>...</td>\n",
       "      <td>yes</td>\n",
       "      <td>no</td>\n",
       "      <td>no</td>\n",
       "      <td>no</td>\n",
       "      <td>one_year</td>\n",
       "      <td>no</td>\n",
       "      <td>mailed_check</td>\n",
       "      <td>56.95</td>\n",
       "      <td>1889.5</td>\n",
       "      <td>no</td>\n",
       "    </tr>\n",
       "    <tr>\n",
       "      <th>2</th>\n",
       "      <td>3668-qpybk</td>\n",
       "      <td>male</td>\n",
       "      <td>0</td>\n",
       "      <td>no</td>\n",
       "      <td>no</td>\n",
       "      <td>2</td>\n",
       "      <td>yes</td>\n",
       "      <td>no</td>\n",
       "      <td>dsl</td>\n",
       "      <td>yes</td>\n",
       "      <td>...</td>\n",
       "      <td>no</td>\n",
       "      <td>no</td>\n",
       "      <td>no</td>\n",
       "      <td>no</td>\n",
       "      <td>month-to-month</td>\n",
       "      <td>yes</td>\n",
       "      <td>mailed_check</td>\n",
       "      <td>53.85</td>\n",
       "      <td>108.15</td>\n",
       "      <td>yes</td>\n",
       "    </tr>\n",
       "    <tr>\n",
       "      <th>3</th>\n",
       "      <td>7795-cfocw</td>\n",
       "      <td>male</td>\n",
       "      <td>0</td>\n",
       "      <td>no</td>\n",
       "      <td>no</td>\n",
       "      <td>45</td>\n",
       "      <td>no</td>\n",
       "      <td>no_phone_service</td>\n",
       "      <td>dsl</td>\n",
       "      <td>yes</td>\n",
       "      <td>...</td>\n",
       "      <td>yes</td>\n",
       "      <td>yes</td>\n",
       "      <td>no</td>\n",
       "      <td>no</td>\n",
       "      <td>one_year</td>\n",
       "      <td>no</td>\n",
       "      <td>bank_transfer_(automatic)</td>\n",
       "      <td>42.30</td>\n",
       "      <td>1840.75</td>\n",
       "      <td>no</td>\n",
       "    </tr>\n",
       "    <tr>\n",
       "      <th>4</th>\n",
       "      <td>9237-hqitu</td>\n",
       "      <td>female</td>\n",
       "      <td>0</td>\n",
       "      <td>no</td>\n",
       "      <td>no</td>\n",
       "      <td>2</td>\n",
       "      <td>yes</td>\n",
       "      <td>no</td>\n",
       "      <td>fiber_optic</td>\n",
       "      <td>no</td>\n",
       "      <td>...</td>\n",
       "      <td>no</td>\n",
       "      <td>no</td>\n",
       "      <td>no</td>\n",
       "      <td>no</td>\n",
       "      <td>month-to-month</td>\n",
       "      <td>yes</td>\n",
       "      <td>electronic_check</td>\n",
       "      <td>70.70</td>\n",
       "      <td>151.65</td>\n",
       "      <td>yes</td>\n",
       "    </tr>\n",
       "  </tbody>\n",
       "</table>\n",
       "<p>5 rows × 21 columns</p>\n",
       "</div>"
      ],
      "text/plain": [
       "   customerid  gender  seniorcitizen partner dependents  tenure phoneservice  \\\n",
       "0  7590-vhveg  female              0     yes         no       1           no   \n",
       "1  5575-gnvde    male              0      no         no      34          yes   \n",
       "2  3668-qpybk    male              0      no         no       2          yes   \n",
       "3  7795-cfocw    male              0      no         no      45           no   \n",
       "4  9237-hqitu  female              0      no         no       2          yes   \n",
       "\n",
       "      multiplelines internetservice onlinesecurity  ... deviceprotection  \\\n",
       "0  no_phone_service             dsl             no  ...               no   \n",
       "1                no             dsl            yes  ...              yes   \n",
       "2                no             dsl            yes  ...               no   \n",
       "3  no_phone_service             dsl            yes  ...              yes   \n",
       "4                no     fiber_optic             no  ...               no   \n",
       "\n",
       "  techsupport streamingtv streamingmovies        contract paperlessbilling  \\\n",
       "0          no          no              no  month-to-month              yes   \n",
       "1          no          no              no        one_year               no   \n",
       "2          no          no              no  month-to-month              yes   \n",
       "3         yes          no              no        one_year               no   \n",
       "4          no          no              no  month-to-month              yes   \n",
       "\n",
       "               paymentmethod monthlycharges  totalcharges churn  \n",
       "0           electronic_check          29.85         29.85    no  \n",
       "1               mailed_check          56.95        1889.5    no  \n",
       "2               mailed_check          53.85        108.15   yes  \n",
       "3  bank_transfer_(automatic)          42.30       1840.75    no  \n",
       "4           electronic_check          70.70        151.65   yes  \n",
       "\n",
       "[5 rows x 21 columns]"
      ]
     },
     "execution_count": 5,
     "metadata": {},
     "output_type": "execute_result"
    }
   ],
   "source": [
    "##lets normalize the values in the our dataset\n",
    "##lets select all columns with string values\n",
    "string_columns = list(df.dtypes[df.dtypes == 'object'].index)\n",
    "\n",
    "for col in string_columns:\n",
    "    df[col] = df[col].str.lower().str.replace(' ', '_')\n",
    "    \n",
    "df.head()"
   ]
  },
  {
   "cell_type": "code",
   "execution_count": 6,
   "metadata": {
    "execution": {
     "iopub.execute_input": "2021-12-16T13:37:43.611211Z",
     "iopub.status.busy": "2021-12-16T13:37:43.611002Z",
     "iopub.status.idle": "2021-12-16T13:37:43.624916Z",
     "shell.execute_reply": "2021-12-16T13:37:43.623864Z",
     "shell.execute_reply.started": "2021-12-16T13:37:43.611183Z"
    }
   },
   "outputs": [
    {
     "data": {
      "text/plain": [
       "customerid           object\n",
       "gender               object\n",
       "seniorcitizen         int64\n",
       "partner              object\n",
       "dependents           object\n",
       "tenure                int64\n",
       "phoneservice         object\n",
       "multiplelines        object\n",
       "internetservice      object\n",
       "onlinesecurity       object\n",
       "onlinebackup         object\n",
       "deviceprotection     object\n",
       "techsupport          object\n",
       "streamingtv          object\n",
       "streamingmovies      object\n",
       "contract             object\n",
       "paperlessbilling     object\n",
       "paymentmethod        object\n",
       "monthlycharges      float64\n",
       "totalcharges        float64\n",
       "churn                object\n",
       "dtype: object"
      ]
     },
     "execution_count": 6,
     "metadata": {},
     "output_type": "execute_result"
    }
   ],
   "source": [
    "##lets now change the column type of totalcharges to a numeric type\n",
    "df['totalcharges'] = pd.to_numeric(df['totalcharges'], errors='coerce')\n",
    "##lets fill the emplty values with zeros\n",
    "df['totalcharges'] = df['totalcharges'].fillna(0)\n",
    "\n",
    "df.dtypes"
   ]
  },
  {
   "cell_type": "code",
   "execution_count": 7,
   "metadata": {
    "execution": {
     "iopub.execute_input": "2021-12-16T13:37:43.626806Z",
     "iopub.status.busy": "2021-12-16T13:37:43.62613Z",
     "iopub.status.idle": "2021-12-16T13:37:43.643537Z",
     "shell.execute_reply": "2021-12-16T13:37:43.642677Z",
     "shell.execute_reply.started": "2021-12-16T13:37:43.626776Z"
    }
   },
   "outputs": [],
   "source": [
    "## lets change the values of predicted values in numerical values\n",
    "df.churn = (df.churn == 'yes').astype(int)"
   ]
  },
  {
   "cell_type": "markdown",
   "metadata": {},
   "source": [
    "### Split our data in train, validation, and test sets. "
   ]
  },
  {
   "cell_type": "code",
   "execution_count": 8,
   "metadata": {
    "execution": {
     "iopub.execute_input": "2021-12-16T13:37:43.645862Z",
     "iopub.status.busy": "2021-12-16T13:37:43.64482Z",
     "iopub.status.idle": "2021-12-16T13:37:43.872442Z",
     "shell.execute_reply": "2021-12-16T13:37:43.87143Z",
     "shell.execute_reply.started": "2021-12-16T13:37:43.645803Z"
    }
   },
   "outputs": [],
   "source": [
    "##lets import all relevarant libraries\n",
    "from sklearn.model_selection import train_test_split\n",
    "\n",
    "##lets alocate 20% of our data to the test set\n",
    "df_train_full, df_test = train_test_split(df, test_size=0.2, random_state=1)\n",
    "\n",
    "## lets allocate 33 percent to our val set and the rest to train set\n",
    "df_train, df_val = train_test_split(df_train_full, test_size=0.33, random_state =11)\n",
    "\n",
    "##lets select our target data\n",
    "y_train = df_train.churn.values\n",
    "y_val = df_val.churn.values\n",
    "\n",
    "## lets delete the target data from our training data\n",
    "del df_train['churn']\n",
    "del df_val['churn']"
   ]
  },
  {
   "cell_type": "code",
   "execution_count": 9,
   "metadata": {
    "execution": {
     "iopub.execute_input": "2021-12-16T13:37:43.875549Z",
     "iopub.status.busy": "2021-12-16T13:37:43.874822Z",
     "iopub.status.idle": "2021-12-16T13:37:43.882638Z",
     "shell.execute_reply": "2021-12-16T13:37:43.881991Z",
     "shell.execute_reply.started": "2021-12-16T13:37:43.875515Z"
    }
   },
   "outputs": [],
   "source": [
    "## lets create a list of columns with categorical data\n",
    "categorical = ['gender', 'seniorcitizen', 'partner', 'dependents',\n",
    "               'phoneservice', 'multiplelines', 'internetservice',\n",
    "               'onlinesecurity', 'onlinebackup', 'deviceprotection',\n",
    "               'techsupport', 'streamingtv', 'streamingmovies',\n",
    "               'contract', 'paperlessbilling', 'paymentmethod' ]\n",
    "\n",
    "## lets create a list of columns with numerical data\n",
    "numerical = ['tenure', 'monthlycharges',  'totalcharges']"
   ]
  },
  {
   "cell_type": "code",
   "execution_count": 10,
   "metadata": {
    "execution": {
     "iopub.execute_input": "2021-12-16T13:37:43.88393Z",
     "iopub.status.busy": "2021-12-16T13:37:43.88363Z",
     "iopub.status.idle": "2021-12-16T13:37:43.920371Z",
     "shell.execute_reply": "2021-12-16T13:37:43.919898Z",
     "shell.execute_reply.started": "2021-12-16T13:37:43.883852Z"
    }
   },
   "outputs": [
    {
     "data": {
      "text/plain": [
       "gender              2\n",
       "seniorcitizen       2\n",
       "partner             2\n",
       "dependents          2\n",
       "phoneservice        2\n",
       "multiplelines       3\n",
       "internetservice     3\n",
       "onlinesecurity      3\n",
       "onlinebackup        3\n",
       "deviceprotection    3\n",
       "techsupport         3\n",
       "streamingtv         3\n",
       "streamingmovies     3\n",
       "contract            3\n",
       "paperlessbilling    2\n",
       "paymentmethod       4\n",
       "dtype: int64"
      ]
     },
     "execution_count": 10,
     "metadata": {},
     "output_type": "execute_result"
    }
   ],
   "source": [
    "## check for unique values in each columns \n",
    "df_train_full[categorical].nunique()"
   ]
  },
  {
   "cell_type": "markdown",
   "metadata": {},
   "source": [
    "### Simple feature:: by converting all our categorical vals to numerical vals"
   ]
  },
  {
   "cell_type": "code",
   "execution_count": 11,
   "metadata": {
    "execution": {
     "iopub.execute_input": "2021-12-16T13:37:43.921414Z",
     "iopub.status.busy": "2021-12-16T13:37:43.921259Z",
     "iopub.status.idle": "2021-12-16T13:37:44.096045Z",
     "shell.execute_reply": "2021-12-16T13:37:44.095544Z",
     "shell.execute_reply.started": "2021-12-16T13:37:43.921383Z"
    }
   },
   "outputs": [],
   "source": [
    "##lets import all relevant libraries\n",
    "from sklearn.feature_extraction import DictVectorizer\n",
    "\n",
    "## converting our dataframe into a list of dictionaries\n",
    "train_dict = df_train[categorical + numerical].to_dict(orient='records')\n",
    "\n",
    "## lets instantiate the \n",
    "dv = DictVectorizer(sparse=False)\n",
    "\n",
    "##\n",
    "dv.fit(train_dict)\n",
    "\n",
    "##\n",
    "X_train = dv.transform(train_dict)"
   ]
  },
  {
   "cell_type": "markdown",
   "metadata": {},
   "source": [
    "### Train our base model"
   ]
  },
  {
   "cell_type": "code",
   "execution_count": 12,
   "metadata": {
    "execution": {
     "iopub.execute_input": "2021-12-16T13:37:44.097323Z",
     "iopub.status.busy": "2021-12-16T13:37:44.097049Z",
     "iopub.status.idle": "2021-12-16T13:37:44.226153Z",
     "shell.execute_reply": "2021-12-16T13:37:44.225372Z",
     "shell.execute_reply.started": "2021-12-16T13:37:44.097299Z"
    }
   },
   "outputs": [
    {
     "data": {
      "text/plain": [
       "LogisticRegression(random_state=1, solver='liblinear')"
      ]
     },
     "execution_count": 12,
     "metadata": {},
     "output_type": "execute_result"
    }
   ],
   "source": [
    "##import all relevant libraries\n",
    "from sklearn.linear_model import LogisticRegression\n",
    "\n",
    "## create an instante\n",
    "model = LogisticRegression(solver='liblinear', random_state=1)\n",
    "\n",
    "##train our model\n",
    "model.fit(X_train, y_train)"
   ]
  },
  {
   "cell_type": "markdown",
   "metadata": {},
   "source": [
    "### Evaluate our models performance "
   ]
  },
  {
   "cell_type": "code",
   "execution_count": 13,
   "metadata": {
    "execution": {
     "iopub.execute_input": "2021-12-16T13:37:44.227304Z",
     "iopub.status.busy": "2021-12-16T13:37:44.227149Z",
     "iopub.status.idle": "2021-12-16T13:37:44.297993Z",
     "shell.execute_reply": "2021-12-16T13:37:44.297334Z",
     "shell.execute_reply.started": "2021-12-16T13:37:44.227284Z"
    }
   },
   "outputs": [],
   "source": [
    "##\n",
    "val_dict = df_val[categorical + numerical].to_dict(orient='records')\n",
    "\n",
    "#dv.fit(val_di\n",
    "\n",
    "X_val = dv.transform(val_dict)\n",
    "\n",
    "y_pred = model.predict_proba(X_val)[:,1]"
   ]
  },
  {
   "cell_type": "markdown",
   "metadata": {},
   "source": [
    "### Small subset"
   ]
  },
  {
   "cell_type": "code",
   "execution_count": 14,
   "metadata": {
    "execution": {
     "iopub.execute_input": "2021-12-16T13:37:44.299614Z",
     "iopub.status.busy": "2021-12-16T13:37:44.29905Z",
     "iopub.status.idle": "2021-12-16T13:37:44.337413Z",
     "shell.execute_reply": "2021-12-16T13:37:44.336838Z",
     "shell.execute_reply.started": "2021-12-16T13:37:44.299584Z"
    }
   },
   "outputs": [],
   "source": [
    "small_subset = ['contract', 'tenure', 'totalcharges']\n",
    "\n",
    "train_dict_small_subset = df_train[small_subset].to_dict(orient='records')\n",
    "\n",
    "dv = DictVectorizer(sparse=False)\n",
    "\n",
    "dv.fit(train_dict_small_subset)\n",
    "\n",
    "X_small_train = dv.transform(train_dict_small_subset)"
   ]
  },
  {
   "cell_type": "code",
   "execution_count": 15,
   "metadata": {
    "execution": {
     "iopub.execute_input": "2021-12-16T13:37:44.338866Z",
     "iopub.status.busy": "2021-12-16T13:37:44.338515Z",
     "iopub.status.idle": "2021-12-16T13:37:44.369977Z",
     "shell.execute_reply": "2021-12-16T13:37:44.3694Z",
     "shell.execute_reply.started": "2021-12-16T13:37:44.338837Z"
    }
   },
   "outputs": [
    {
     "data": {
      "text/plain": [
       "LogisticRegression(random_state=1, solver='liblinear')"
      ]
     },
     "execution_count": 15,
     "metadata": {},
     "output_type": "execute_result"
    }
   ],
   "source": [
    "##lets train\n",
    "from sklearn.linear_model import LogisticRegression\n",
    "\n",
    "model_small = LogisticRegression(solver='liblinear', random_state=1)\n",
    "\n",
    "model_small.fit(X_small_train, y_train)"
   ]
  },
  {
   "cell_type": "code",
   "execution_count": 16,
   "metadata": {
    "execution": {
     "iopub.execute_input": "2021-12-16T13:37:44.371542Z",
     "iopub.status.busy": "2021-12-16T13:37:44.371208Z",
     "iopub.status.idle": "2021-12-16T13:37:44.401611Z",
     "shell.execute_reply": "2021-12-16T13:37:44.400934Z",
     "shell.execute_reply.started": "2021-12-16T13:37:44.371509Z"
    }
   },
   "outputs": [],
   "source": [
    "##lets evaluate our model\n",
    "val_dict_small_subset = df_val[small_subset].to_dict(orient='records')\n",
    "\n",
    "#dv.fit(val_dict_small_subset)\n",
    "\n",
    "X_small_val = dv.transform(val_dict_small_subset)\n",
    "\n",
    "y_pred_small = model_small.predict_proba(X_small_val)[:,1]"
   ]
  },
  {
   "cell_type": "markdown",
   "metadata": {},
   "source": [
    "### Accuracy"
   ]
  },
  {
   "cell_type": "code",
   "execution_count": 17,
   "metadata": {
    "execution": {
     "iopub.execute_input": "2021-12-16T13:37:44.403163Z",
     "iopub.status.busy": "2021-12-16T13:37:44.402816Z",
     "iopub.status.idle": "2021-12-16T13:37:44.410635Z",
     "shell.execute_reply": "2021-12-16T13:37:44.409899Z",
     "shell.execute_reply.started": "2021-12-16T13:37:44.40313Z"
    }
   },
   "outputs": [
    {
     "data": {
      "text/plain": [
       "0.8016129032258065"
      ]
     },
     "execution_count": 17,
     "metadata": {},
     "output_type": "execute_result"
    }
   ],
   "source": [
    "##get the predictions from our model\n",
    "y_pred = model.predict_proba(X_val)[:,1]\n",
    "\n",
    "## make hard predictions\n",
    "churn = y_pred >= 0.5\n",
    "\n",
    "## computes the accuracy\n",
    "(y_val == churn).mean()\n"
   ]
  },
  {
   "cell_type": "code",
   "execution_count": 18,
   "metadata": {
    "execution": {
     "iopub.execute_input": "2021-12-16T13:37:44.412194Z",
     "iopub.status.busy": "2021-12-16T13:37:44.411836Z",
     "iopub.status.idle": "2021-12-16T13:37:44.428956Z",
     "shell.execute_reply": "2021-12-16T13:37:44.428149Z",
     "shell.execute_reply.started": "2021-12-16T13:37:44.41216Z"
    }
   },
   "outputs": [
    {
     "name": "stdout",
     "output_type": "stream",
     "text": [
      "0.00 0.261\n",
      "0.10 0.595\n",
      "0.20 0.690\n",
      "0.30 0.755\n",
      "0.40 0.782\n",
      "0.50 0.802\n",
      "0.60 0.790\n",
      "0.70 0.774\n",
      "0.80 0.742\n",
      "0.90 0.739\n",
      "1.00 0.739\n"
     ]
    }
   ],
   "source": [
    "from sklearn.metrics import accuracy_score\n",
    "\n",
    "##lets create an area with different thresholds\n",
    "thresholds = np.linspace(0,1,11)\n",
    "\n",
    "##lets loop over our threshold values\n",
    "for t in thresholds:\n",
    "    ##lets make the hard predictions\n",
    "    churn = y_pred >= t\n",
    "    ##lets use accuracy_score from scikit learn\n",
    "    acc = accuracy_score(y_val, churn)\n",
    "    ##lets print the thresholds and the accuracy values to std ouput\n",
    "    print('%0.2f %0.3f' % (t, acc))"
   ]
  },
  {
   "cell_type": "markdown",
   "metadata": {},
   "source": [
    "### Lets visualize our accuracy score with respect to each threshold value"
   ]
  },
  {
   "cell_type": "code",
   "execution_count": 19,
   "metadata": {
    "execution": {
     "iopub.execute_input": "2021-12-16T13:37:44.430571Z",
     "iopub.status.busy": "2021-12-16T13:37:44.430214Z",
     "iopub.status.idle": "2021-12-16T13:37:44.617148Z",
     "shell.execute_reply": "2021-12-16T13:37:44.615859Z",
     "shell.execute_reply.started": "2021-12-16T13:37:44.430537Z"
    }
   },
   "outputs": [
    {
     "data": {
      "text/plain": [
       "[<matplotlib.lines.Line2D at 0x7f73c6623eb0>]"
      ]
     },
     "execution_count": 19,
     "metadata": {},
     "output_type": "execute_result"
    },
    {
     "data": {
      "image/png": "[encoded data removed]",
      "text/plain": [
       "<Figure size 432x288 with 1 Axes>"
      ]
     },
     "metadata": {
      "needs_background": "light"
     },
     "output_type": "display_data"
    }
   ],
   "source": [
    "thresholds = np.linspace(0,1,21)\n",
    "\n",
    "##\n",
    "accuracies = []\n",
    "\n",
    "##\n",
    "for t in thresholds:\n",
    "    acc = accuracy_score(y_val, y_pred >= t)\n",
    "    accuracies.append(acc)\n",
    "    \n",
    "plt.plot(thresholds, accuracies)"
   ]
  },
  {
   "cell_type": "code",
   "execution_count": 20,
   "metadata": {
    "execution": {
     "iopub.execute_input": "2021-12-16T13:37:44.618298Z",
     "iopub.status.busy": "2021-12-16T13:37:44.618113Z",
     "iopub.status.idle": "2021-12-16T13:37:44.645018Z",
     "shell.execute_reply": "2021-12-16T13:37:44.644414Z",
     "shell.execute_reply.started": "2021-12-16T13:37:44.618276Z"
    }
   },
   "outputs": [
    {
     "data": {
      "text/plain": [
       "0.7672043010752688"
      ]
     },
     "execution_count": 20,
     "metadata": {},
     "output_type": "execute_result"
    }
   ],
   "source": [
    "## lets also compute the accuracy on our validation set\n",
    "val_dict_small = df_val[small_subset].to_dict(orient='records')\n",
    "\n",
    "X_small_val = dv.transform(val_dict_small)\n",
    "\n",
    "y_pred_small = model_small.predict_proba(X_small_val)[:,1]\n",
    "\n",
    "churn_small = y_pred_small >= 0.5\n",
    "accuracy_score(y_val, churn_small)"
   ]
  },
  {
   "cell_type": "markdown",
   "metadata": {},
   "source": [
    "### Dummy baseline"
   ]
  },
  {
   "cell_type": "code",
   "execution_count": 21,
   "metadata": {
    "execution": {
     "iopub.execute_input": "2021-12-16T13:37:44.646741Z",
     "iopub.status.busy": "2021-12-16T13:37:44.646172Z",
     "iopub.status.idle": "2021-12-16T13:37:44.65273Z",
     "shell.execute_reply": "2021-12-16T13:37:44.652119Z",
     "shell.execute_reply.started": "2021-12-16T13:37:44.646707Z"
    }
   },
   "outputs": [
    {
     "data": {
      "text/plain": [
       "array([False, False, False, ..., False, False, False])"
      ]
     },
     "execution_count": 21,
     "metadata": {},
     "output_type": "execute_result"
    }
   ],
   "source": [
    "size_val = len(y_val)\n",
    "baseline = np.repeat(False, size_val)\n",
    "baseline"
   ]
  },
  {
   "cell_type": "code",
   "execution_count": 22,
   "metadata": {
    "execution": {
     "iopub.execute_input": "2021-12-16T13:37:44.654575Z",
     "iopub.status.busy": "2021-12-16T13:37:44.654142Z",
     "iopub.status.idle": "2021-12-16T13:37:44.669415Z",
     "shell.execute_reply": "2021-12-16T13:37:44.668702Z",
     "shell.execute_reply.started": "2021-12-16T13:37:44.654526Z"
    }
   },
   "outputs": [
    {
     "data": {
      "text/plain": [
       "0.7387096774193549"
      ]
     },
     "execution_count": 22,
     "metadata": {},
     "output_type": "execute_result"
    }
   ],
   "source": [
    "accuracy_score(baseline, y_val)"
   ]
  },
  {
   "cell_type": "markdown",
   "metadata": {},
   "source": [
    "### Confusioin table \n",
    "This refers to a table that concisely represents every possible outcome of our models predictions.\n",
    "Namely; True Positve, True Negative, False Positive, and False Negative."
   ]
  },
  {
   "cell_type": "code",
   "execution_count": 23,
   "metadata": {
    "execution": {
     "iopub.execute_input": "2021-12-16T13:37:44.671227Z",
     "iopub.status.busy": "2021-12-16T13:37:44.670804Z",
     "iopub.status.idle": "2021-12-16T13:37:44.684409Z",
     "shell.execute_reply": "2021-12-16T13:37:44.683756Z",
     "shell.execute_reply.started": "2021-12-16T13:37:44.67119Z"
    }
   },
   "outputs": [],
   "source": [
    "##lets set our predictions at the threshold value of 0.5 \n",
    "t = 0.5 \n",
    "predicted_churn = (y_pred >= t)\n",
    "predicted_no_churn = (y_pred < t)\n",
    "\n",
    "## lets get the actual targets \n",
    "actual_churn = (y_val == 1)\n",
    "actual_no_churn = (y_val == 0)\n",
    "\n",
    "## lets computes true positives \n",
    "true_positive = (predicted_churn & actual_churn).sum()\n",
    "false_positive = (predicted_churn & actual_no_churn).sum()\n",
    "\n",
    "##lets computes true negatives\n",
    "true_negative = (predicted_no_churn & actual_no_churn).sum()\n",
    "false_negative = (predicted_no_churn & actual_churn).sum()"
   ]
  },
  {
   "cell_type": "code",
   "execution_count": 24,
   "metadata": {
    "execution": {
     "iopub.execute_input": "2021-12-16T13:37:44.686366Z",
     "iopub.status.busy": "2021-12-16T13:37:44.685952Z",
     "iopub.status.idle": "2021-12-16T13:37:44.702294Z",
     "shell.execute_reply": "2021-12-16T13:37:44.701716Z",
     "shell.execute_reply.started": "2021-12-16T13:37:44.686329Z"
    }
   },
   "outputs": [
    {
     "data": {
      "text/plain": [
       "array([[1202,  172],\n",
       "       [ 197,  289]])"
      ]
     },
     "execution_count": 24,
     "metadata": {},
     "output_type": "execute_result"
    }
   ],
   "source": [
    "##lets put all the values together\n",
    "confusion_table = np.array(\n",
    "    [[true_negative, false_positive],\n",
    "    [false_negative, true_positive]]\n",
    ")\n",
    "\n",
    "confusion_table"
   ]
  },
  {
   "cell_type": "code",
   "execution_count": 25,
   "metadata": {
    "execution": {
     "iopub.execute_input": "2021-12-16T13:37:44.703981Z",
     "iopub.status.busy": "2021-12-16T13:37:44.703577Z",
     "iopub.status.idle": "2021-12-16T13:37:44.71696Z",
     "shell.execute_reply": "2021-12-16T13:37:44.716367Z",
     "shell.execute_reply.started": "2021-12-16T13:37:44.703944Z"
    }
   },
   "outputs": [
    {
     "data": {
      "text/plain": [
       "array([[0.64623656, 0.09247312],\n",
       "       [0.10591398, 0.15537634]])"
      ]
     },
     "execution_count": 25,
     "metadata": {},
     "output_type": "execute_result"
    }
   ],
   "source": [
    "confusion_table / confusion_table.sum()"
   ]
  },
  {
   "cell_type": "code",
   "execution_count": 26,
   "metadata": {
    "execution": {
     "iopub.execute_input": "2021-12-16T13:37:44.718567Z",
     "iopub.status.busy": "2021-12-16T13:37:44.717819Z",
     "iopub.status.idle": "2021-12-16T13:37:44.730583Z",
     "shell.execute_reply": "2021-12-16T13:37:44.730042Z",
     "shell.execute_reply.started": "2021-12-16T13:37:44.71853Z"
    }
   },
   "outputs": [
    {
     "data": {
      "text/plain": [
       "(0.6268980477223427, 0.5946502057613169)"
      ]
     },
     "execution_count": 26,
     "metadata": {},
     "output_type": "execute_result"
    }
   ],
   "source": [
    "precision = true_positive / (true_positive + false_positive)\n",
    "recall = true_positive / (true_positive + false_negative)\n",
    "precision, recall "
   ]
  },
  {
   "cell_type": "markdown",
   "metadata": {},
   "source": [
    "### Evaluating a model at multiple thresholds "
   ]
  },
  {
   "cell_type": "code",
   "execution_count": 27,
   "metadata": {
    "execution": {
     "iopub.execute_input": "2021-12-16T13:37:44.737284Z",
     "iopub.status.busy": "2021-12-16T13:37:44.736589Z",
     "iopub.status.idle": "2021-12-16T13:37:44.754297Z",
     "shell.execute_reply": "2021-12-16T13:37:44.753677Z",
     "shell.execute_reply.started": "2021-12-16T13:37:44.737245Z"
    }
   },
   "outputs": [],
   "source": [
    "## lets create a list where we'll keep the results\n",
    "scores = []\n",
    "\n",
    "## lets create an array with different threshold values\n",
    "\n",
    "## lets loop through them...\n",
    "thresholds = np.linspace(0, 1, 101)\n",
    "\n",
    "## computes the confusion table for predictions at each threshold\n",
    "for t in thresholds:\n",
    "    tp = ((y_pred >= t) & (y_val == 1)).sum()\n",
    "    fp = ((y_pred >= t) & (y_val == 0)).sum()\n",
    "    fn = ((y_pred < t) & (y_val == 1)).sum()\n",
    "    tn = ((y_pred < t) & (y_val == 0)).sum()\n",
    "    \n",
    "    ##lets append the resutls to the score list\n",
    "    scores.append((t, tp, fp, fn, tn))\n",
    "\n",
    "    \n",
    "## lets turn the list into a pandas dataframe \n",
    "df_scores = pd.DataFrame(scores)\n",
    "\n",
    "##assigns names to the columns of the dataframe \n",
    "df_scores.columns = ['threshold', 'tp', 'fp', 'fn', 'tn']"
   ]
  },
  {
   "cell_type": "code",
   "execution_count": 28,
   "metadata": {
    "execution": {
     "iopub.execute_input": "2021-12-16T13:37:44.756329Z",
     "iopub.status.busy": "2021-12-16T13:37:44.755941Z",
     "iopub.status.idle": "2021-12-16T13:37:44.768112Z",
     "shell.execute_reply": "2021-12-16T13:37:44.767505Z",
     "shell.execute_reply.started": "2021-12-16T13:37:44.756294Z"
    }
   },
   "outputs": [
    {
     "data": {
      "text/html": [
       "<div>\n",
       "<style scoped>\n",
       "    .dataframe tbody tr th:only-of-type {\n",
       "        vertical-align: middle;\n",
       "    }\n",
       "\n",
       "    .dataframe tbody tr th {\n",
       "        vertical-align: top;\n",
       "    }\n",
       "\n",
       "    .dataframe thead th {\n",
       "        text-align: right;\n",
       "    }\n",
       "</style>\n",
       "<table border=\"1\" class=\"dataframe\">\n",
       "  <thead>\n",
       "    <tr style=\"text-align: right;\">\n",
       "      <th></th>\n",
       "      <th>threshold</th>\n",
       "      <th>tp</th>\n",
       "      <th>fp</th>\n",
       "      <th>fn</th>\n",
       "      <th>tn</th>\n",
       "    </tr>\n",
       "  </thead>\n",
       "  <tbody>\n",
       "    <tr>\n",
       "      <th>0</th>\n",
       "      <td>0.0</td>\n",
       "      <td>486</td>\n",
       "      <td>1374</td>\n",
       "      <td>0</td>\n",
       "      <td>0</td>\n",
       "    </tr>\n",
       "    <tr>\n",
       "      <th>10</th>\n",
       "      <td>0.1</td>\n",
       "      <td>458</td>\n",
       "      <td>726</td>\n",
       "      <td>28</td>\n",
       "      <td>648</td>\n",
       "    </tr>\n",
       "    <tr>\n",
       "      <th>20</th>\n",
       "      <td>0.2</td>\n",
       "      <td>421</td>\n",
       "      <td>512</td>\n",
       "      <td>65</td>\n",
       "      <td>862</td>\n",
       "    </tr>\n",
       "    <tr>\n",
       "      <th>30</th>\n",
       "      <td>0.3</td>\n",
       "      <td>380</td>\n",
       "      <td>350</td>\n",
       "      <td>106</td>\n",
       "      <td>1024</td>\n",
       "    </tr>\n",
       "    <tr>\n",
       "      <th>40</th>\n",
       "      <td>0.4</td>\n",
       "      <td>337</td>\n",
       "      <td>257</td>\n",
       "      <td>149</td>\n",
       "      <td>1117</td>\n",
       "    </tr>\n",
       "    <tr>\n",
       "      <th>50</th>\n",
       "      <td>0.5</td>\n",
       "      <td>289</td>\n",
       "      <td>172</td>\n",
       "      <td>197</td>\n",
       "      <td>1202</td>\n",
       "    </tr>\n",
       "    <tr>\n",
       "      <th>60</th>\n",
       "      <td>0.6</td>\n",
       "      <td>200</td>\n",
       "      <td>105</td>\n",
       "      <td>286</td>\n",
       "      <td>1269</td>\n",
       "    </tr>\n",
       "    <tr>\n",
       "      <th>70</th>\n",
       "      <td>0.7</td>\n",
       "      <td>99</td>\n",
       "      <td>34</td>\n",
       "      <td>387</td>\n",
       "      <td>1340</td>\n",
       "    </tr>\n",
       "    <tr>\n",
       "      <th>80</th>\n",
       "      <td>0.8</td>\n",
       "      <td>7</td>\n",
       "      <td>1</td>\n",
       "      <td>479</td>\n",
       "      <td>1373</td>\n",
       "    </tr>\n",
       "    <tr>\n",
       "      <th>90</th>\n",
       "      <td>0.9</td>\n",
       "      <td>0</td>\n",
       "      <td>0</td>\n",
       "      <td>486</td>\n",
       "      <td>1374</td>\n",
       "    </tr>\n",
       "    <tr>\n",
       "      <th>100</th>\n",
       "      <td>1.0</td>\n",
       "      <td>0</td>\n",
       "      <td>0</td>\n",
       "      <td>486</td>\n",
       "      <td>1374</td>\n",
       "    </tr>\n",
       "  </tbody>\n",
       "</table>\n",
       "</div>"
      ],
      "text/plain": [
       "     threshold   tp    fp   fn    tn\n",
       "0          0.0  486  1374    0     0\n",
       "10         0.1  458   726   28   648\n",
       "20         0.2  421   512   65   862\n",
       "30         0.3  380   350  106  1024\n",
       "40         0.4  337   257  149  1117\n",
       "50         0.5  289   172  197  1202\n",
       "60         0.6  200   105  286  1269\n",
       "70         0.7   99    34  387  1340\n",
       "80         0.8    7     1  479  1373\n",
       "90         0.9    0     0  486  1374\n",
       "100        1.0    0     0  486  1374"
      ]
     },
     "execution_count": 28,
     "metadata": {},
     "output_type": "execute_result"
    }
   ],
   "source": [
    "df_scores[::10]"
   ]
  },
  {
   "cell_type": "code",
   "execution_count": 29,
   "metadata": {
    "execution": {
     "iopub.execute_input": "2021-12-16T13:37:44.769419Z",
     "iopub.status.busy": "2021-12-16T13:37:44.769195Z",
     "iopub.status.idle": "2021-12-16T13:37:44.777849Z",
     "shell.execute_reply": "2021-12-16T13:37:44.777266Z",
     "shell.execute_reply.started": "2021-12-16T13:37:44.769388Z"
    }
   },
   "outputs": [],
   "source": [
    "##lets compute the TPR and FPR scores\n",
    "df_scores['tpr'] = df_scores.tp / (df_scores.tp + df_scores.fn)\n",
    "df_scores['fpr'] = df_scores.fp / (df_scores.fp + df_scores.tn)"
   ]
  },
  {
   "cell_type": "code",
   "execution_count": 30,
   "metadata": {
    "execution": {
     "iopub.execute_input": "2021-12-16T13:37:44.779368Z",
     "iopub.status.busy": "2021-12-16T13:37:44.779082Z",
     "iopub.status.idle": "2021-12-16T13:37:44.800136Z",
     "shell.execute_reply": "2021-12-16T13:37:44.799121Z",
     "shell.execute_reply.started": "2021-12-16T13:37:44.779341Z"
    }
   },
   "outputs": [
    {
     "data": {
      "text/html": [
       "<div>\n",
       "<style scoped>\n",
       "    .dataframe tbody tr th:only-of-type {\n",
       "        vertical-align: middle;\n",
       "    }\n",
       "\n",
       "    .dataframe tbody tr th {\n",
       "        vertical-align: top;\n",
       "    }\n",
       "\n",
       "    .dataframe thead th {\n",
       "        text-align: right;\n",
       "    }\n",
       "</style>\n",
       "<table border=\"1\" class=\"dataframe\">\n",
       "  <thead>\n",
       "    <tr style=\"text-align: right;\">\n",
       "      <th></th>\n",
       "      <th>threshold</th>\n",
       "      <th>tp</th>\n",
       "      <th>fp</th>\n",
       "      <th>fn</th>\n",
       "      <th>tn</th>\n",
       "      <th>tpr</th>\n",
       "      <th>fpr</th>\n",
       "    </tr>\n",
       "  </thead>\n",
       "  <tbody>\n",
       "    <tr>\n",
       "      <th>0</th>\n",
       "      <td>0.0</td>\n",
       "      <td>486</td>\n",
       "      <td>1374</td>\n",
       "      <td>0</td>\n",
       "      <td>0</td>\n",
       "      <td>1.000000</td>\n",
       "      <td>1.000000</td>\n",
       "    </tr>\n",
       "    <tr>\n",
       "      <th>10</th>\n",
       "      <td>0.1</td>\n",
       "      <td>458</td>\n",
       "      <td>726</td>\n",
       "      <td>28</td>\n",
       "      <td>648</td>\n",
       "      <td>0.942387</td>\n",
       "      <td>0.528384</td>\n",
       "    </tr>\n",
       "    <tr>\n",
       "      <th>20</th>\n",
       "      <td>0.2</td>\n",
       "      <td>421</td>\n",
       "      <td>512</td>\n",
       "      <td>65</td>\n",
       "      <td>862</td>\n",
       "      <td>0.866255</td>\n",
       "      <td>0.372635</td>\n",
       "    </tr>\n",
       "    <tr>\n",
       "      <th>30</th>\n",
       "      <td>0.3</td>\n",
       "      <td>380</td>\n",
       "      <td>350</td>\n",
       "      <td>106</td>\n",
       "      <td>1024</td>\n",
       "      <td>0.781893</td>\n",
       "      <td>0.254731</td>\n",
       "    </tr>\n",
       "    <tr>\n",
       "      <th>40</th>\n",
       "      <td>0.4</td>\n",
       "      <td>337</td>\n",
       "      <td>257</td>\n",
       "      <td>149</td>\n",
       "      <td>1117</td>\n",
       "      <td>0.693416</td>\n",
       "      <td>0.187045</td>\n",
       "    </tr>\n",
       "    <tr>\n",
       "      <th>50</th>\n",
       "      <td>0.5</td>\n",
       "      <td>289</td>\n",
       "      <td>172</td>\n",
       "      <td>197</td>\n",
       "      <td>1202</td>\n",
       "      <td>0.594650</td>\n",
       "      <td>0.125182</td>\n",
       "    </tr>\n",
       "    <tr>\n",
       "      <th>60</th>\n",
       "      <td>0.6</td>\n",
       "      <td>200</td>\n",
       "      <td>105</td>\n",
       "      <td>286</td>\n",
       "      <td>1269</td>\n",
       "      <td>0.411523</td>\n",
       "      <td>0.076419</td>\n",
       "    </tr>\n",
       "    <tr>\n",
       "      <th>70</th>\n",
       "      <td>0.7</td>\n",
       "      <td>99</td>\n",
       "      <td>34</td>\n",
       "      <td>387</td>\n",
       "      <td>1340</td>\n",
       "      <td>0.203704</td>\n",
       "      <td>0.024745</td>\n",
       "    </tr>\n",
       "    <tr>\n",
       "      <th>80</th>\n",
       "      <td>0.8</td>\n",
       "      <td>7</td>\n",
       "      <td>1</td>\n",
       "      <td>479</td>\n",
       "      <td>1373</td>\n",
       "      <td>0.014403</td>\n",
       "      <td>0.000728</td>\n",
       "    </tr>\n",
       "    <tr>\n",
       "      <th>90</th>\n",
       "      <td>0.9</td>\n",
       "      <td>0</td>\n",
       "      <td>0</td>\n",
       "      <td>486</td>\n",
       "      <td>1374</td>\n",
       "      <td>0.000000</td>\n",
       "      <td>0.000000</td>\n",
       "    </tr>\n",
       "    <tr>\n",
       "      <th>100</th>\n",
       "      <td>1.0</td>\n",
       "      <td>0</td>\n",
       "      <td>0</td>\n",
       "      <td>486</td>\n",
       "      <td>1374</td>\n",
       "      <td>0.000000</td>\n",
       "      <td>0.000000</td>\n",
       "    </tr>\n",
       "  </tbody>\n",
       "</table>\n",
       "</div>"
      ],
      "text/plain": [
       "     threshold   tp    fp   fn    tn       tpr       fpr\n",
       "0          0.0  486  1374    0     0  1.000000  1.000000\n",
       "10         0.1  458   726   28   648  0.942387  0.528384\n",
       "20         0.2  421   512   65   862  0.866255  0.372635\n",
       "30         0.3  380   350  106  1024  0.781893  0.254731\n",
       "40         0.4  337   257  149  1117  0.693416  0.187045\n",
       "50         0.5  289   172  197  1202  0.594650  0.125182\n",
       "60         0.6  200   105  286  1269  0.411523  0.076419\n",
       "70         0.7   99    34  387  1340  0.203704  0.024745\n",
       "80         0.8    7     1  479  1373  0.014403  0.000728\n",
       "90         0.9    0     0  486  1374  0.000000  0.000000\n",
       "100        1.0    0     0  486  1374  0.000000  0.000000"
      ]
     },
     "execution_count": 30,
     "metadata": {},
     "output_type": "execute_result"
    }
   ],
   "source": [
    "df_scores[::10]"
   ]
  },
  {
   "cell_type": "code",
   "execution_count": 31,
   "metadata": {
    "execution": {
     "iopub.execute_input": "2021-12-16T13:37:44.802014Z",
     "iopub.status.busy": "2021-12-16T13:37:44.80128Z",
     "iopub.status.idle": "2021-12-16T13:37:44.967749Z",
     "shell.execute_reply": "2021-12-16T13:37:44.967327Z",
     "shell.execute_reply.started": "2021-12-16T13:37:44.80192Z"
    }
   },
   "outputs": [
    {
     "data": {
      "text/plain": [
       "<matplotlib.legend.Legend at 0x7f73c64be550>"
      ]
     },
     "execution_count": 31,
     "metadata": {},
     "output_type": "execute_result"
    },
    {
     "data": {
      "image/png": "[encoded data removed]",
      "text/plain": [
       "<Figure size 432x288 with 1 Axes>"
      ]
     },
     "metadata": {
      "needs_background": "light"
     },
     "output_type": "display_data"
    }
   ],
   "source": [
    "plt.plot(df_scores.threshold, df_scores.tpr, linestyle='solid' , label='TPR')\n",
    "plt.plot(df_scores.threshold, df_scores.fpr, linestyle='dashed',  label='FPR')\n",
    "plt.legend()"
   ]
  },
  {
   "cell_type": "markdown",
   "metadata": {},
   "source": [
    "### Random baseline model  \n",
    "This model outputs a random score between 0 and 1, regardless of the input. "
   ]
  },
  {
   "cell_type": "code",
   "execution_count": 32,
   "metadata": {
    "execution": {
     "iopub.execute_input": "2021-12-16T13:37:44.969768Z",
     "iopub.status.busy": "2021-12-16T13:37:44.96879Z",
     "iopub.status.idle": "2021-12-16T13:37:44.978455Z",
     "shell.execute_reply": "2021-12-16T13:37:44.977487Z",
     "shell.execute_reply.started": "2021-12-16T13:37:44.969733Z"
    }
   },
   "outputs": [],
   "source": [
    "##lets create a function to cal TRP and FPR at diff thresholds\n",
    "def tpr_fpr_dataframe(y_val, y_pred):\n",
    "    \"\"\"\n",
    "    Defines a function that takes in actual and predicted values\n",
    "    \"\"\"\n",
    "    ##empty list of scores\n",
    "    scores = []\n",
    "    \n",
    "    ##create an numpy array of threholds value\n",
    "    thresholds = np.linspace(0, 1, 101)\n",
    "    \n",
    "    ##cal the confusion table for different thresholds\n",
    "    \n",
    "    for t in thresholds:\n",
    "        tp = ((y_pred >= t) & (y_val == 1)).sum()\n",
    "        fp = ((y_pred >= t) & (y_val == 0)).sum()\n",
    "        fn = ((y_pred < t) & (y_val == 1)).sum()\n",
    "        tn = ((y_pred < t) & (y_val == 0)).sum()\n",
    "        scores.append((t, tp, fp, fn, tn))\n",
    "     \n",
    "    ##lets converts the confusion table numbers to a dataframe\n",
    "    df_scores = pd.DataFrame(scores)\n",
    "    df_scores.columns = ['threshold', 'tp', 'fp', 'fn', 'tn']\n",
    "    \n",
    "    ##cal TPR and FPR using the confusion table numbers\n",
    "    df_scores['tpr'] = df_scores.tp / (df_scores.tp + df_scores.fn)\n",
    "    df_scores['fpr'] = df_scores.fp / (df_scores.fp + df_scores.tn)\n",
    "    \n",
    "    return df_scores"
   ]
  },
  {
   "cell_type": "code",
   "execution_count": 33,
   "metadata": {
    "execution": {
     "iopub.execute_input": "2021-12-16T13:37:44.979606Z",
     "iopub.status.busy": "2021-12-16T13:37:44.979443Z",
     "iopub.status.idle": "2021-12-16T13:37:45.009786Z",
     "shell.execute_reply": "2021-12-16T13:37:45.008687Z",
     "shell.execute_reply.started": "2021-12-16T13:37:44.979585Z"
    }
   },
   "outputs": [
    {
     "data": {
      "text/html": [
       "<div>\n",
       "<style scoped>\n",
       "    .dataframe tbody tr th:only-of-type {\n",
       "        vertical-align: middle;\n",
       "    }\n",
       "\n",
       "    .dataframe tbody tr th {\n",
       "        vertical-align: top;\n",
       "    }\n",
       "\n",
       "    .dataframe thead th {\n",
       "        text-align: right;\n",
       "    }\n",
       "</style>\n",
       "<table border=\"1\" class=\"dataframe\">\n",
       "  <thead>\n",
       "    <tr style=\"text-align: right;\">\n",
       "      <th></th>\n",
       "      <th>threshold</th>\n",
       "      <th>tp</th>\n",
       "      <th>fp</th>\n",
       "      <th>fn</th>\n",
       "      <th>tn</th>\n",
       "      <th>tpr</th>\n",
       "      <th>fpr</th>\n",
       "    </tr>\n",
       "  </thead>\n",
       "  <tbody>\n",
       "    <tr>\n",
       "      <th>0</th>\n",
       "      <td>0.0</td>\n",
       "      <td>486</td>\n",
       "      <td>1374</td>\n",
       "      <td>0</td>\n",
       "      <td>0</td>\n",
       "      <td>1.000000</td>\n",
       "      <td>1.000000</td>\n",
       "    </tr>\n",
       "    <tr>\n",
       "      <th>10</th>\n",
       "      <td>0.1</td>\n",
       "      <td>440</td>\n",
       "      <td>1236</td>\n",
       "      <td>46</td>\n",
       "      <td>138</td>\n",
       "      <td>0.905350</td>\n",
       "      <td>0.899563</td>\n",
       "    </tr>\n",
       "    <tr>\n",
       "      <th>20</th>\n",
       "      <td>0.2</td>\n",
       "      <td>392</td>\n",
       "      <td>1101</td>\n",
       "      <td>94</td>\n",
       "      <td>273</td>\n",
       "      <td>0.806584</td>\n",
       "      <td>0.801310</td>\n",
       "    </tr>\n",
       "    <tr>\n",
       "      <th>30</th>\n",
       "      <td>0.3</td>\n",
       "      <td>339</td>\n",
       "      <td>972</td>\n",
       "      <td>147</td>\n",
       "      <td>402</td>\n",
       "      <td>0.697531</td>\n",
       "      <td>0.707424</td>\n",
       "    </tr>\n",
       "    <tr>\n",
       "      <th>40</th>\n",
       "      <td>0.4</td>\n",
       "      <td>288</td>\n",
       "      <td>849</td>\n",
       "      <td>198</td>\n",
       "      <td>525</td>\n",
       "      <td>0.592593</td>\n",
       "      <td>0.617904</td>\n",
       "    </tr>\n",
       "    <tr>\n",
       "      <th>50</th>\n",
       "      <td>0.5</td>\n",
       "      <td>239</td>\n",
       "      <td>723</td>\n",
       "      <td>247</td>\n",
       "      <td>651</td>\n",
       "      <td>0.491770</td>\n",
       "      <td>0.526201</td>\n",
       "    </tr>\n",
       "    <tr>\n",
       "      <th>60</th>\n",
       "      <td>0.6</td>\n",
       "      <td>193</td>\n",
       "      <td>579</td>\n",
       "      <td>293</td>\n",
       "      <td>795</td>\n",
       "      <td>0.397119</td>\n",
       "      <td>0.421397</td>\n",
       "    </tr>\n",
       "    <tr>\n",
       "      <th>70</th>\n",
       "      <td>0.7</td>\n",
       "      <td>152</td>\n",
       "      <td>422</td>\n",
       "      <td>334</td>\n",
       "      <td>952</td>\n",
       "      <td>0.312757</td>\n",
       "      <td>0.307132</td>\n",
       "    </tr>\n",
       "    <tr>\n",
       "      <th>80</th>\n",
       "      <td>0.8</td>\n",
       "      <td>98</td>\n",
       "      <td>302</td>\n",
       "      <td>388</td>\n",
       "      <td>1072</td>\n",
       "      <td>0.201646</td>\n",
       "      <td>0.219796</td>\n",
       "    </tr>\n",
       "    <tr>\n",
       "      <th>90</th>\n",
       "      <td>0.9</td>\n",
       "      <td>57</td>\n",
       "      <td>147</td>\n",
       "      <td>429</td>\n",
       "      <td>1227</td>\n",
       "      <td>0.117284</td>\n",
       "      <td>0.106987</td>\n",
       "    </tr>\n",
       "    <tr>\n",
       "      <th>100</th>\n",
       "      <td>1.0</td>\n",
       "      <td>0</td>\n",
       "      <td>0</td>\n",
       "      <td>486</td>\n",
       "      <td>1374</td>\n",
       "      <td>0.000000</td>\n",
       "      <td>0.000000</td>\n",
       "    </tr>\n",
       "  </tbody>\n",
       "</table>\n",
       "</div>"
      ],
      "text/plain": [
       "     threshold   tp    fp   fn    tn       tpr       fpr\n",
       "0          0.0  486  1374    0     0  1.000000  1.000000\n",
       "10         0.1  440  1236   46   138  0.905350  0.899563\n",
       "20         0.2  392  1101   94   273  0.806584  0.801310\n",
       "30         0.3  339   972  147   402  0.697531  0.707424\n",
       "40         0.4  288   849  198   525  0.592593  0.617904\n",
       "50         0.5  239   723  247   651  0.491770  0.526201\n",
       "60         0.6  193   579  293   795  0.397119  0.421397\n",
       "70         0.7  152   422  334   952  0.312757  0.307132\n",
       "80         0.8   98   302  388  1072  0.201646  0.219796\n",
       "90         0.9   57   147  429  1227  0.117284  0.106987\n",
       "100        1.0    0     0  486  1374  0.000000  0.000000"
      ]
     },
     "execution_count": 33,
     "metadata": {},
     "output_type": "execute_result"
    }
   ],
   "source": [
    "##lets fix the random seet \n",
    "np.random.seed(1)\n",
    "\n",
    "##generate an array with random numbers b/n 0 and 1\n",
    "y_rand = np.random.uniform(0, 1, size=len(y_val))\n",
    "\n",
    "##lets use this function to cal the TPR and FPR\n",
    "df_rand = tpr_fpr_dataframe(y_val, y_rand)\n",
    "\n",
    "##display \n",
    "df_rand[::10]\n"
   ]
  },
  {
   "cell_type": "code",
   "execution_count": 34,
   "metadata": {
    "execution": {
     "iopub.execute_input": "2021-12-16T13:37:45.012292Z",
     "iopub.status.busy": "2021-12-16T13:37:45.01172Z",
     "iopub.status.idle": "2021-12-16T13:37:45.163254Z",
     "shell.execute_reply": "2021-12-16T13:37:45.162447Z",
     "shell.execute_reply.started": "2021-12-16T13:37:45.012259Z"
    }
   },
   "outputs": [
    {
     "data": {
      "image/png": "[encoded data removed]",
      "text/plain": [
       "<Figure size 432x288 with 1 Axes>"
      ]
     },
     "metadata": {
      "needs_background": "light"
     },
     "output_type": "display_data"
    }
   ],
   "source": [
    "plt.figure(figsize=(6,4))\n",
    "\n",
    "plt.plot(df_rand.threshold, df_rand.tpr, label='TPR')\n",
    "plt.plot(df_rand.threshold, df_rand.fpr, label='FPR')\n",
    "plt.legend()\n",
    "\n",
    "plt.xticks(np.linspace(0,1,11))\n",
    "plt.yticks(np.linspace(0,1,11))\n",
    "\n",
    "plt.xlabel('Thresholds')\n",
    "plt.title('TPR and FPR for the random model')\n",
    "\n",
    "plt.show()"
   ]
  },
  {
   "cell_type": "markdown",
   "metadata": {},
   "source": [
    "## The Ideal model \n",
    "The Ideal model always make a correct prediction\n"
   ]
  },
  {
   "cell_type": "code",
   "execution_count": 35,
   "metadata": {
    "execution": {
     "iopub.execute_input": "2021-12-16T13:37:45.164568Z",
     "iopub.status.busy": "2021-12-16T13:37:45.164374Z",
     "iopub.status.idle": "2021-12-16T13:37:45.179367Z",
     "shell.execute_reply": "2021-12-16T13:37:45.178477Z",
     "shell.execute_reply.started": "2021-12-16T13:37:45.164545Z"
    }
   },
   "outputs": [],
   "source": [
    "##lets calculates the number of neg and posi examples in the dataset. \n",
    "num_neg = (y_val == 0).sum()\n",
    "num_pos = (y_val == 1).sum()\n",
    "\n",
    "##lets generates an array that first repeats 0s num_neg num of times, \n",
    "##followed by 1s repeated num_pos number of times \n",
    "y_ideal = np.repeat([0,1], [num_neg, num_pos])\n",
    "y_pred_ideal = np.linspace(0, 1, num_neg + num_pos)\n",
    "\n",
    "##computes the TPR and FPR curves for classifier\n",
    "df_ideal = tpr_fpr_dataframe(y_ideal, y_pred_ideal)\n",
    "\n"
   ]
  },
  {
   "cell_type": "code",
   "execution_count": 36,
   "metadata": {
    "execution": {
     "iopub.execute_input": "2021-12-16T13:37:45.1811Z",
     "iopub.status.busy": "2021-12-16T13:37:45.180798Z",
     "iopub.status.idle": "2021-12-16T13:37:45.324654Z",
     "shell.execute_reply": "2021-12-16T13:37:45.32379Z",
     "shell.execute_reply.started": "2021-12-16T13:37:45.180965Z"
    }
   },
   "outputs": [
    {
     "data": {
      "image/png": "[encoded data removed]",
      "text/plain": [
       "<Figure size 432x288 with 1 Axes>"
      ]
     },
     "metadata": {
      "needs_background": "light"
     },
     "output_type": "display_data"
    }
   ],
   "source": [
    "plt.figure(figsize=(6,4))\n",
    "\n",
    "plt.plot(df_ideal.threshold, df_ideal.tpr, label='TPR')\n",
    "plt.plot(df_ideal.threshold, df_ideal.fpr, label='FPR')\n",
    "plt.legend()\n",
    "\n",
    "plt.xticks(np.linspace(0,1,11))\n",
    "plt.yticks(np.linspace(0, 1, 11))\n",
    "\n",
    "plt.vlines(1 - y_val.mean(), -1, 2, linewidth=0.5, linestyle='dashed', color='grey')\n",
    "plt.ylim(-0.03, 1.03)\n",
    "\n",
    "plt.xlabel('Thresholds')\n",
    "plt.title('TPR and FPR for the ideal model')\n",
    "plt.show()"
   ]
  },
  {
   "cell_type": "markdown",
   "metadata": {},
   "source": [
    "### ROC curve"
   ]
  },
  {
   "cell_type": "code",
   "execution_count": 37,
   "metadata": {
    "execution": {
     "iopub.execute_input": "2021-12-16T13:37:45.326161Z",
     "iopub.status.busy": "2021-12-16T13:37:45.325996Z",
     "iopub.status.idle": "2021-12-16T13:37:45.509952Z",
     "shell.execute_reply": "2021-12-16T13:37:45.509266Z",
     "shell.execute_reply.started": "2021-12-16T13:37:45.32614Z"
    }
   },
   "outputs": [
    {
     "data": {
      "text/plain": [
       "Text(0.5, 1.0, 'ROC curve')"
      ]
     },
     "execution_count": 37,
     "metadata": {},
     "output_type": "execute_result"
    },
    {
     "data": {
      "image/png": "[encoded data removed]",
      "text/plain": [
       "<Figure size 360x360 with 1 Axes>"
      ]
     },
     "metadata": {
      "needs_background": "light"
     },
     "output_type": "display_data"
    }
   ],
   "source": [
    "##lets make the plot square\n",
    "plt.figure(figsize=(5,5))\n",
    "\n",
    "plt.plot(df_scores.fpr, df_scores.tpr, color='black', label='Model')\n",
    "plt.plot(df_rand.fpr, df_rand.tpr, color='black', lw=1, linestyle='dashed', alpha=0.5, label='Random')\n",
    "plt.plot(df_ideal.fpr, df_ideal.tpr, color='black', lw=0.5, linestyle='solid', alpha=0.5, label='Ideal')\n",
    "plt.legend()\n",
    "\n",
    "plt.xlim([-0.02, 1.02])\n",
    "plt.ylim([-0.02, 1.02])\n",
    "plt.xlabel('False Positive Rate')\n",
    "plt.ylabel('True Positive Rate')\n",
    "\n",
    "plt.title('ROC curve')\n"
   ]
  },
  {
   "cell_type": "code",
   "execution_count": 38,
   "metadata": {
    "execution": {
     "iopub.execute_input": "2021-12-16T13:37:45.511222Z",
     "iopub.status.busy": "2021-12-16T13:37:45.511051Z",
     "iopub.status.idle": "2021-12-16T13:37:45.654155Z",
     "shell.execute_reply": "2021-12-16T13:37:45.652951Z",
     "shell.execute_reply.started": "2021-12-16T13:37:45.511199Z"
    }
   },
   "outputs": [
    {
     "data": {
      "image/png": "[encoded data removed]",
      "text/plain": [
       "<Figure size 360x360 with 1 Axes>"
      ]
     },
     "metadata": {
      "needs_background": "light"
     },
     "output_type": "display_data"
    }
   ],
   "source": [
    "plt.figure(figsize=(5, 5))\n",
    "\n",
    "plt.plot(df_scores.fpr, df_scores.tpr, color='black')\n",
    "plt.plot([0, 1], [0, 1], color='black', lw=0.7, linestyle='dashed', alpha=0.5)\n",
    "\n",
    "plt.xlim([-0.02, 1.02])\n",
    "plt.ylim([-0.02, 1.02])\n",
    "plt.xlabel('False Positive Rate')\n",
    "plt.ylabel('True Positive Rate')\n",
    "\n",
    "plt.title('ROC curve')\n",
    "\n",
    "# plt.savefig('04_roc_curve.svg')\n",
    "\n",
    "plt.show()"
   ]
  },
  {
   "cell_type": "markdown",
   "metadata": {},
   "source": [
    "### Plotting ROC Curve using Scikit learn"
   ]
  },
  {
   "cell_type": "code",
   "execution_count": 39,
   "metadata": {
    "execution": {
     "iopub.execute_input": "2021-12-16T13:37:45.655665Z",
     "iopub.status.busy": "2021-12-16T13:37:45.655475Z",
     "iopub.status.idle": "2021-12-16T13:37:45.80813Z",
     "shell.execute_reply": "2021-12-16T13:37:45.80741Z",
     "shell.execute_reply.started": "2021-12-16T13:37:45.655643Z"
    }
   },
   "outputs": [
    {
     "data": {
      "text/plain": [
       "[<matplotlib.lines.Line2D at 0x7f73c5ef3b80>]"
      ]
     },
     "execution_count": 39,
     "metadata": {},
     "output_type": "execute_result"
    },
    {
     "data": {
      "image/png": "[encoded data removed]",
      "text/plain": [
       "<Figure size 360x360 with 1 Axes>"
      ]
     },
     "metadata": {
      "needs_background": "light"
     },
     "output_type": "display_data"
    }
   ],
   "source": [
    "from sklearn.metrics import roc_curve\n",
    "\n",
    "fpr, tpr, thresholds = roc_curve(y_val, y_pred)\n",
    "\n",
    "plt.figure(figsize=(5,5))\n",
    "plt.plot(fpr, tpr)\n",
    "plt.plot([0,1], [0,1])"
   ]
  },
  {
   "cell_type": "code",
   "execution_count": 40,
   "metadata": {
    "execution": {
     "iopub.execute_input": "2021-12-16T13:37:45.810136Z",
     "iopub.status.busy": "2021-12-16T13:37:45.809902Z",
     "iopub.status.idle": "2021-12-16T13:37:46.189673Z",
     "shell.execute_reply": "2021-12-16T13:37:46.188789Z",
     "shell.execute_reply.started": "2021-12-16T13:37:45.810106Z"
    }
   },
   "outputs": [
    {
     "data": {
      "text/plain": [
       "<matplotlib.legend.Legend at 0x7f73c5f0c1f0>"
      ]
     },
     "execution_count": 40,
     "metadata": {},
     "output_type": "execute_result"
    },
    {
     "data": {
      "image/png": "[encoded data removed]",
      "text/plain": [
       "<Figure size 360x360 with 1 Axes>"
      ]
     },
     "metadata": {
      "needs_background": "light"
     },
     "output_type": "display_data"
    }
   ],
   "source": [
    "##Lets plot the ROC curve of small and large models \n",
    "fpr_large, tpr_large, _ = roc_curve(y_val, y_pred)\n",
    "fpr_small, tpr_small, _ = roc_curve(y_val, y_pred_small)\n",
    "\n",
    "plt.figure(figsize=(5,5))\n",
    "\n",
    "plt.plot(fpr_large, tpr_large, label='Large')\n",
    "plt.plot(fpr_small, tpr_small, label='Small')\n",
    "plt.plot([0,1], [0,1])\n",
    "plt.legend()"
   ]
  },
  {
   "cell_type": "markdown",
   "metadata": {},
   "source": [
    "### Area under the ROC (AUC) "
   ]
  },
  {
   "cell_type": "code",
   "execution_count": 41,
   "metadata": {
    "execution": {
     "iopub.execute_input": "2021-12-16T13:37:46.191237Z",
     "iopub.status.busy": "2021-12-16T13:37:46.191016Z",
     "iopub.status.idle": "2021-12-16T13:37:46.199025Z",
     "shell.execute_reply": "2021-12-16T13:37:46.198083Z",
     "shell.execute_reply.started": "2021-12-16T13:37:46.191209Z"
    }
   },
   "outputs": [
    {
     "data": {
      "text/plain": [
       "0.8359001084215382"
      ]
     },
     "execution_count": 41,
     "metadata": {},
     "output_type": "execute_result"
    }
   ],
   "source": [
    "from sklearn.metrics import auc\n",
    "\n",
    "auc(df_scores.fpr, df_scores.tpr)"
   ]
  },
  {
   "cell_type": "code",
   "execution_count": 42,
   "metadata": {
    "execution": {
     "iopub.execute_input": "2021-12-16T13:37:46.200431Z",
     "iopub.status.busy": "2021-12-16T13:37:46.200236Z",
     "iopub.status.idle": "2021-12-16T13:37:46.213124Z",
     "shell.execute_reply": "2021-12-16T13:37:46.212171Z",
     "shell.execute_reply.started": "2021-12-16T13:37:46.200408Z"
    }
   },
   "outputs": [],
   "source": [
    "##lets cal auc for the small model\n"
   ]
  },
  {
   "cell_type": "code",
   "execution_count": 43,
   "metadata": {
    "execution": {
     "iopub.execute_input": "2021-12-16T13:37:46.215179Z",
     "iopub.status.busy": "2021-12-16T13:37:46.21497Z",
     "iopub.status.idle": "2021-12-16T13:37:46.229933Z",
     "shell.execute_reply": "2021-12-16T13:37:46.228677Z",
     "shell.execute_reply.started": "2021-12-16T13:37:46.215157Z"
    }
   },
   "outputs": [
    {
     "data": {
      "text/plain": [
       "0.8363366398907399"
      ]
     },
     "execution_count": 43,
     "metadata": {},
     "output_type": "execute_result"
    }
   ],
   "source": [
    "from sklearn.metrics import roc_auc_score\n",
    "roc_auc_score(y_val, y_pred)"
   ]
  },
  {
   "cell_type": "markdown",
   "metadata": {},
   "source": [
    "### Let's put all the code for training into a train function, which first converts the data into a one-hot encoding representation and then trains the model."
   ]
  },
  {
   "cell_type": "code",
   "execution_count": 44,
   "metadata": {
    "execution": {
     "iopub.execute_input": "2021-12-16T13:37:46.231679Z",
     "iopub.status.busy": "2021-12-16T13:37:46.231491Z",
     "iopub.status.idle": "2021-12-16T13:37:46.239593Z",
     "shell.execute_reply": "2021-12-16T13:37:46.238544Z",
     "shell.execute_reply.started": "2021-12-16T13:37:46.231656Z"
    }
   },
   "outputs": [],
   "source": [
    "def train(df, y):\n",
    "    ##applies one-hot encoding\n",
    "    cat = df[categorical + numerical].to_dict(orient='records')\n",
    "    \n",
    "    dv = DictVectorizer(sparse=False)\n",
    "    dv.fit(cat)\n",
    "    \n",
    "    X = dv.transform(cat)\n",
    "    ##trains the model\n",
    "    model = LogisticRegression(solver='liblinear')\n",
    "    \n",
    "    model.fit(X, y)\n",
    "    \n",
    "    return dv, model"
   ]
  },
  {
   "cell_type": "markdown",
   "metadata": {},
   "source": [
    "Likewise, we also put the prediction logic into a predict function. \n",
    "This function takes in a dataframe with customers,\n",
    "the vectorizer we “trained” previously — for doing onehot encoding — and the model. \n",
    "Then we apply the vectorizer to the dataframe, get a matrix, \n",
    "and finally apply the model to the matrix to get predictions"
   ]
  },
  {
   "cell_type": "code",
   "execution_count": 45,
   "metadata": {
    "execution": {
     "iopub.execute_input": "2021-12-16T13:37:46.241313Z",
     "iopub.status.busy": "2021-12-16T13:37:46.24107Z",
     "iopub.status.idle": "2021-12-16T13:37:46.251856Z",
     "shell.execute_reply": "2021-12-16T13:37:46.251404Z",
     "shell.execute_reply.started": "2021-12-16T13:37:46.241283Z"
    }
   },
   "outputs": [],
   "source": [
    "def predict(df, dv, model):\n",
    "    cat = df[categorical + numerical].to_dict(orient='records')\n",
    "    \n",
    "    X = dv.transform(cat)\n",
    "    y_pred = model.predict_proba(X)[:,1]\n",
    "    \n",
    "    return y_pred"
   ]
  },
  {
   "cell_type": "markdown",
   "metadata": {},
   "source": [
    "Let's use these functions for implementing K-fold cross-validation.\n"
   ]
  },
  {
   "cell_type": "code",
   "execution_count": 46,
   "metadata": {
    "execution": {
     "iopub.execute_input": "2021-12-16T13:37:46.253431Z",
     "iopub.status.busy": "2021-12-16T13:37:46.253224Z",
     "iopub.status.idle": "2021-12-16T13:37:49.270401Z",
     "shell.execute_reply": "2021-12-16T13:37:49.269863Z",
     "shell.execute_reply.started": "2021-12-16T13:37:46.253402Z"
    }
   },
   "outputs": [],
   "source": [
    "##lets import the KFold class\n",
    "from sklearn.model_selection import KFold\n",
    "\n",
    "## lets use it to split the data into 10 parts\n",
    "kfold = KFold(n_splits=10, shuffle=True, random_state=1)\n",
    "\n",
    "## creates a list for storing the resutls \n",
    "aucs = []\n",
    "\n",
    "##lets iterate over the 10 diff splits of the data\n",
    "for train_idx, val_idx in kfold.split(df_train_full):\n",
    "    ##lets splits the data into train and validation sets\n",
    "    df_train = df_train_full.iloc[train_idx]\n",
    "    df_val = df_train_full.iloc[val_idx]\n",
    "    \n",
    "    y_train = df_train.churn.values\n",
    "    y_val = df_val.churn.values \n",
    "    \n",
    "    #trains the model and makes predictions\n",
    "    dv, model = train(df_train, y_train)\n",
    "    y_pred = predict(df_val, dv, model)\n",
    "    \n",
    "    ## lets evaluate the quality of the train on the validation data using AUC\n",
    "    auc = roc_auc_score(y_val, y_pred)\n",
    "    aucs.append(auc)\n",
    "    "
   ]
  },
  {
   "cell_type": "code",
   "execution_count": 47,
   "metadata": {
    "execution": {
     "iopub.execute_input": "2021-12-16T13:37:49.272002Z",
     "iopub.status.busy": "2021-12-16T13:37:49.271631Z",
     "iopub.status.idle": "2021-12-16T13:37:49.278542Z",
     "shell.execute_reply": "2021-12-16T13:37:49.277608Z",
     "shell.execute_reply.started": "2021-12-16T13:37:49.271971Z"
    }
   },
   "outputs": [
    {
     "name": "stdout",
     "output_type": "stream",
     "text": [
      "auc = 0.842 ± 0.012\n"
     ]
    }
   ],
   "source": [
    "print('auc = %0.3f ± %0.3f' % (np.mean(aucs), np.std(aucs)))"
   ]
  },
  {
   "cell_type": "markdown",
   "metadata": {},
   "source": [
    "### Finding the best parameters\n",
    "Let’s select our cross-validation procedure for selecting the best parameter C. For\n",
    "that, we first adjust the train function to take in an additional parameter"
   ]
  },
  {
   "cell_type": "code",
   "execution_count": 48,
   "metadata": {
    "execution": {
     "iopub.execute_input": "2021-12-16T13:37:49.282144Z",
     "iopub.status.busy": "2021-12-16T13:37:49.281909Z",
     "iopub.status.idle": "2021-12-16T13:37:49.293943Z",
     "shell.execute_reply": "2021-12-16T13:37:49.293Z",
     "shell.execute_reply.started": "2021-12-16T13:37:49.282117Z"
    }
   },
   "outputs": [],
   "source": [
    "def train(df, y, C):\n",
    "    cat = df[categorical + numerical].to_dict(orient='records')\n",
    "    \n",
    "    dv = DictVectorizer(sparse=False)\n",
    "    \n",
    "    dv.fit(cat)\n",
    "    \n",
    "    X = dv.transform(cat)\n",
    "    \n",
    "    ##lets use the parameter during training\n",
    "    model = LogisticRegression(solver='liblinear', C=C)\n",
    "    model.fit(X, y)\n",
    "    \n",
    "    return dv, model"
   ]
  },
  {
   "cell_type": "markdown",
   "metadata": {},
   "source": [
    " let’s find the best parameter C. The idea is simple:\n",
    " Loop over different values of C.\n",
    "For each C, run cross-validation and record the mean AUC across all folds as\n",
    "well as the standard deviation"
   ]
  },
  {
   "cell_type": "code",
   "execution_count": 49,
   "metadata": {
    "execution": {
     "iopub.execute_input": "2021-12-16T13:37:49.295366Z",
     "iopub.status.busy": "2021-12-16T13:37:49.295176Z",
     "iopub.status.idle": "2021-12-16T13:38:07.254891Z",
     "shell.execute_reply": "2021-12-16T13:38:07.253972Z",
     "shell.execute_reply.started": "2021-12-16T13:37:49.29534Z"
    }
   },
   "outputs": [
    {
     "name": "stdout",
     "output_type": "stream",
     "text": [
      "C=0.001, auc = 0.826 += 0.016\n",
      "C=0.01, auc = 0.840 += 0.012\n",
      "C=0.1, auc = 0.842 += 0.012\n",
      "C=0.5, auc = 0.842 += 0.012\n",
      "C=1, auc = 0.842 += 0.012\n",
      "C=10, auc = 0.842 += 0.012\n"
     ]
    }
   ],
   "source": [
    "##Tuning the model: selecting the best parameter C usinng cross-validation\n",
    "nfolds = 5\n",
    "kfolds = KFold(n_splits=nfolds, shuffle=True, random_state=1)\n",
    "\n",
    "for C in [0.001, 0.01, 0.1, 0.5, 1, 10]:\n",
    "    aucs = []\n",
    "    \n",
    "    for train_idx, val_idx in kfold.split(df_train_full):\n",
    "        df_train = df_train_full.iloc[train_idx]\n",
    "        df_val = df_train_full.iloc[val_idx]\n",
    "        \n",
    "        y_train = df_train.churn.values\n",
    "        y_val = df_val.churn.values\n",
    "        \n",
    "        dv, model = train(df_train, y_train, C=C)\n",
    "        y_pred = predict(df_val, dv, model)\n",
    "        \n",
    "        auc = roc_auc_score(y_val, y_pred)\n",
    "        aucs.append(auc)\n",
    "        \n",
    "    print('C=%s, auc = %0.3f += %0.3f' % (C, np.mean(aucs), np.std(aucs)))"
   ]
  },
  {
   "cell_type": "markdown",
   "metadata": {
    "execution": {
     "iopub.execute_input": "2021-12-16T10:47:37.304581Z",
     "iopub.status.busy": "2021-12-16T10:47:37.304258Z",
     "iopub.status.idle": "2021-12-16T10:47:37.310392Z",
     "shell.execute_reply": "2021-12-16T10:47:37.309572Z",
     "shell.execute_reply.started": "2021-12-16T10:47:37.304547Z"
    }
   },
   "source": [
    "Let's train the model on the entire train and validation\n",
    "datasets and apply it to the test dataset to verify it indeed works well.\n",
    "Let’s use our train and predict functions for that:"
   ]
  },
  {
   "cell_type": "code",
   "execution_count": 50,
   "metadata": {
    "execution": {
     "iopub.execute_input": "2021-12-16T13:38:07.256314Z",
     "iopub.status.busy": "2021-12-16T13:38:07.25612Z",
     "iopub.status.idle": "2021-12-16T13:38:07.613518Z",
     "shell.execute_reply": "2021-12-16T13:38:07.613024Z",
     "shell.execute_reply.started": "2021-12-16T13:38:07.256287Z"
    }
   },
   "outputs": [
    {
     "name": "stdout",
     "output_type": "stream",
     "text": [
      "auc = 0.858\n"
     ]
    }
   ],
   "source": [
    "y_train = df_train_full.churn.values\n",
    "y_test = df_test.churn.values\n",
    "\n",
    "##lets train the modelon the full training dataset\n",
    "dv, model = train(df_train_full, y_train, C=0.5)\n",
    "##applies it to the test dataset\n",
    "y_pred = predict(df_test, dv, model)\n",
    "\n",
    "## evaluates the predictions on the test data\n",
    "auc = roc_auc_score(y_test, y_pred)\n",
    "print('auc = %.3f' % auc)"
   ]
  },
  {
   "cell_type": "code",
   "execution_count": 51,
   "metadata": {
    "execution": {
     "iopub.execute_input": "2021-12-16T13:38:26.935092Z",
     "iopub.status.busy": "2021-12-16T13:38:26.934766Z",
     "iopub.status.idle": "2021-12-16T13:38:26.942005Z",
     "shell.execute_reply": "2021-12-16T13:38:26.940723Z",
     "shell.execute_reply.started": "2021-12-16T13:38:26.935062Z"
    }
   },
   "outputs": [],
   "source": [
    "customer = {\n",
    "'customerid': '8879-zkjof',\n",
    "'gender': 'female',\n",
    "'seniorcitizen': 0,\n",
    "'partner': 'no',\n",
    "'dependents': 'no',\n",
    "'tenure': 41,\n",
    "'phoneservice': 'yes',\n",
    "'multiplelines': 'no',\n",
    "'internetservice': 'dsl',\n",
    "'onlinesecurity': 'yes',\n",
    "'onlinebackup': 'no',\n",
    "'deviceprotection': 'yes',\n",
    "'techsupport': 'yes',\n",
    "'streamingtv': 'yes',\n",
    "'streamingmovies': 'yes',\n",
    "'contract': 'one_year',\n",
    "'paperlessbilling': 'yes',\n",
    "'paymentmethod': 'bank_transfer_(automatic)',\n",
    "'monthlycharges': 79.85,\n",
    "'totalcharges': 3320.75,\n",
    "}"
   ]
  },
  {
   "cell_type": "code",
   "execution_count": 52,
   "metadata": {
    "execution": {
     "iopub.execute_input": "2021-12-16T13:39:16.132573Z",
     "iopub.status.busy": "2021-12-16T13:39:16.132362Z",
     "iopub.status.idle": "2021-12-16T13:39:16.144159Z",
     "shell.execute_reply": "2021-12-16T13:39:16.142797Z",
     "shell.execute_reply.started": "2021-12-16T13:39:16.132552Z"
    }
   },
   "outputs": [
    {
     "data": {
      "text/plain": [
       "0.0618756855983274"
      ]
     },
     "execution_count": 52,
     "metadata": {},
     "output_type": "execute_result"
    }
   ],
   "source": [
    "## lets use the predict function to predict if the customer is going to churn or not\n",
    "## convert the customer data into a pandas dataframe \n",
    "df = pd.DataFrame([customer])\n",
    "##call the predict function\n",
    "y_pred = predict(df, dv, model)\n",
    "y_pred[0]"
   ]
  },
  {
   "cell_type": "code",
   "execution_count": 53,
   "metadata": {
    "execution": {
     "iopub.execute_input": "2021-12-16T13:42:19.254294Z",
     "iopub.status.busy": "2021-12-16T13:42:19.254036Z",
     "iopub.status.idle": "2021-12-16T13:42:19.259528Z",
     "shell.execute_reply": "2021-12-16T13:42:19.258507Z",
     "shell.execute_reply.started": "2021-12-16T13:42:19.254267Z"
    }
   },
   "outputs": [],
   "source": [
    "def predict(df, dv, model):\n",
    "    cat = df[categorical + numerical].to_dict('records')\n",
    "    X = dv.transform(cat)\n",
    "    y_pred = model.predict_proba(X)[:, 1]\n",
    "    return y_pred "
   ]
  },
  {
   "cell_type": "code",
   "execution_count": 54,
   "metadata": {
    "execution": {
     "iopub.execute_input": "2021-12-16T13:50:39.301554Z",
     "iopub.status.busy": "2021-12-16T13:50:39.301205Z",
     "iopub.status.idle": "2021-12-16T13:50:39.308156Z",
     "shell.execute_reply": "2021-12-16T13:50:39.307089Z",
     "shell.execute_reply.started": "2021-12-16T13:50:39.301518Z"
    }
   },
   "outputs": [],
   "source": [
    "## lets create a function to predict the prob of churn for a single customer only\n",
    "def predict_single(customer, dv, model):\n",
    "    ## vectorizes the customer: creates the matri\n",
    "    X = dv.transform([customer])\n",
    "    ## applies the model to this matrix \n",
    "    y_pred = model.predict_proba(X)[:,1]\n",
    "    ## lets return the first element of the result\n",
    "    return y_pred[0]"
   ]
  },
  {
   "cell_type": "code",
   "execution_count": 55,
   "metadata": {
    "execution": {
     "iopub.execute_input": "2021-12-16T13:50:59.063036Z",
     "iopub.status.busy": "2021-12-16T13:50:59.062534Z",
     "iopub.status.idle": "2021-12-16T13:50:59.068788Z",
     "shell.execute_reply": "2021-12-16T13:50:59.068022Z",
     "shell.execute_reply.started": "2021-12-16T13:50:59.063007Z"
    }
   },
   "outputs": [
    {
     "data": {
      "text/plain": [
       "0.0618756855983274"
      ]
     },
     "execution_count": 55,
     "metadata": {},
     "output_type": "execute_result"
    }
   ],
   "source": [
    "##\n",
    "predict_single(customer, dv, model)"
   ]
  },
  {
   "cell_type": "markdown",
   "metadata": {},
   "source": [
    "# Deploying machine learning models \n",
    "## Using the model \n"
   ]
  },
  {
   "cell_type": "markdown",
   "metadata": {},
   "source": [
    "### lets create an instance of a customer and predict whether the customer churn or not"
   ]
  },
  {
   "cell_type": "code",
   "execution_count": 56,
   "metadata": {},
   "outputs": [],
   "source": [
    "## lets create an instance of a customer \n",
    "customer = {\n",
    "\n",
    "\"customerid\": \"8879-zkjof\",\n",
    "\"gender\": \"female\",\n",
    "\"seniorcitizen\": 0,\n",
    "\"partner\": \"no\",\n",
    "\"dependents\": \"no\",\n",
    "\"tenure\": 41,\n",
    "\"phoneservice\": \"yes\",\n",
    "\"multiplelines\": \"no\",\n",
    "\"internetservice\": \"dsl\",\n",
    "\"onlinesecurity\": \"yes\",\n",
    "\"onlinebackup\": \"no\",\n",
    "\"deviceprotection\": \"yes\",\n",
    "\"techsupport\": \"yes\",\n",
    "\"streamingtv\": \"yes\",\n",
    "\"streamingmovies\": \"yes\",\n",
    "\"contract\": \"one_year\",\n",
    "\"paperlessbilling\": \"yes\",\n",
    "\"paymentmethod\": \"bank_transfer_(automatic)\",\n",
    "\"monthlycharges\": 79.85,\n",
    "\"totalcharges\": 3320.75,\n",
    "    \n",
    "    \n",
    "}"
   ]
  },
  {
   "cell_type": "code",
   "execution_count": 57,
   "metadata": {},
   "outputs": [
    {
     "data": {
      "text/plain": [
       "0.0618756855983274"
      ]
     },
     "execution_count": 57,
     "metadata": {},
     "output_type": "execute_result"
    }
   ],
   "source": [
    "## lets use the predict function to predict the customer instance \n",
    "df = pd.DataFrame([customer])\n",
    "y_pred = predict(df, dv, model)\n",
    "y_pred[0]"
   ]
  },
  {
   "cell_type": "code",
   "execution_count": 58,
   "metadata": {},
   "outputs": [],
   "source": [
    "\n",
    "def predict_single(customer, dv, model):\n",
    "    X = dv.transform([customer])\n",
    "    y_pred = model.predict_proba(X)[:,1]\n",
    "    return y_pred[0]"
   ]
  },
  {
   "cell_type": "code",
   "execution_count": 59,
   "metadata": {},
   "outputs": [
    {
     "data": {
      "text/plain": [
       "0.0618756855983274"
      ]
     },
     "execution_count": 59,
     "metadata": {},
     "output_type": "execute_result"
    }
   ],
   "source": [
    "predict_single(customer, dv, model)"
   ]
  },
  {
   "cell_type": "markdown",
   "metadata": {},
   "source": [
    "### Using Pickle to save and load the model"
   ]
  },
  {
   "cell_type": "markdown",
   "metadata": {},
   "source": [
    "### SAVING THE MODEL"
   ]
  },
  {
   "cell_type": "code",
   "execution_count": 60,
   "metadata": {},
   "outputs": [],
   "source": [
    "import pickle\n",
    "## lets spcify the file where we want to save\n",
    "with open('churn-model.bin', 'wb') as f_out:\n",
    "    ## lets save the model to file with Pickle\n",
    "    ## and the DictVectorizer\n",
    "    pickle.dump((dv,model), f_out)"
   ]
  },
  {
   "cell_type": "markdown",
   "metadata": {},
   "source": [
    "### LOADING THE MODEL"
   ]
  },
  {
   "cell_type": "code",
   "execution_count": 61,
   "metadata": {},
   "outputs": [],
   "source": [
    "## lets open the file read mode\n",
    "with open('churn-model.bin', 'rb') as f_in:\n",
    "    ## lets load the tuple and unpack it\n",
    "    dv,model = pickle.load(f_in)"
   ]
  },
  {
   "cell_type": "markdown",
   "metadata": {},
   "source": [
    "### Let’s create a simple Python script that loads the model and applies it to a customer. We will call this file churn_serving.py"
   ]
  },
  {
   "cell_type": "markdown",
   "metadata": {},
   "source": [
    "## Model serving \n",
    "\n",
    "### Lets create a Flask app called 'flask_test.py', by creating a simple function and making it available as web service."
   ]
  },
  {
   "cell_type": "markdown",
   "metadata": {},
   "source": [
    "### Web services \n",
    "flast_test.py "
   ]
  },
  {
   "cell_type": "markdown",
   "metadata": {},
   "source": [
    "#### Serving churn model with Flask \n",
    "Thus, to make it possible for the campaign service to get predictions from the <br>\n",
    "churn service, we need to create a /predict route that accepts POST requests. The <br>\n",
    "churn service will parse JSON data about a customer and respond in JSON as well (figure 5.4)"
   ]
  },
  {
   "cell_type": "code",
   "execution_count": 3,
   "metadata": {},
   "outputs": [],
   "source": [
    "import requests"
   ]
  },
  {
   "cell_type": "code",
   "execution_count": 4,
   "metadata": {},
   "outputs": [],
   "source": [
    "## lets create an instance of a customer \n",
    "customer = {\n",
    "\n",
    "\"customerid\": \"8879-zkjof\",\n",
    "\"gender\": \"female\",\n",
    "\"seniorcitizen\": 0,\n",
    "\"partner\": \"no\",\n",
    "\"dependents\": \"no\",\n",
    "\"tenure\": 41,\n",
    "\"phoneservice\": \"yes\",\n",
    "\"multiplelines\": \"no\",\n",
    "\"internetservice\": \"dsl\",\n",
    "\"onlinesecurity\": \"yes\",\n",
    "\"onlinebackup\": \"no\",\n",
    "\"deviceprotection\": \"yes\",\n",
    "\"techsupport\": \"yes\",\n",
    "\"streamingtv\": \"yes\",\n",
    "\"streamingmovies\": \"yes\",\n",
    "\"contract\": \"one_year\",\n",
    "\"paperlessbilling\": \"yes\",\n",
    "\"paymentmethod\": \"bank_transfer_(automatic)\",\n",
    "\"monthlycharges\": 79.85,\n",
    "\"totalcharges\": 3320.75,\n",
    "    \n",
    "    \n",
    "}\n"
   ]
  },
  {
   "cell_type": "code",
   "execution_count": 5,
   "metadata": {},
   "outputs": [
    {
     "name": "stdout",
     "output_type": "stream",
     "text": [
      "{'churn': False, 'churn_probability': 0.0618756855983274}\n"
     ]
    }
   ],
   "source": [
    "url = 'http://localhost:9696/predict'\n",
    "response = requests.post(url, json=customer)\n",
    "result = response.json()\n",
    "print(result)"
   ]
  },
  {
   "cell_type": "code",
   "execution_count": 8,
   "metadata": {},
   "outputs": [
    {
     "name": "stdout",
     "output_type": "stream",
     "text": [
      "{'churn': False, 'churn_probability': 0.0618756855983274}\n"
     ]
    }
   ],
   "source": [
    "host = 'churn-serving-env.eba-unugcta9.us-west-2.elasticbeanstalk.com'\n",
    "url = 'http://%s/predict' % host\n",
    "response = requests.post(url, json=customer)\n",
    "result = response.json()\n",
    "print(result) "
   ]
  },
  {
   "cell_type": "code",
   "execution_count": null,
   "metadata": {},
   "outputs": [],
   "source": []
  },
  {
   "cell_type": "code",
   "execution_count": null,
   "metadata": {},
   "outputs": [],
   "source": []
  },
  {
   "cell_type": "code",
   "execution_count": null,
   "metadata": {},
   "outputs": [],
   "source": []
  },
  {
   "cell_type": "code",
   "execution_count": null,
   "metadata": {},
   "outputs": [],
   "source": []
  },
  {
   "cell_type": "code",
   "execution_count": null,
   "metadata": {},
   "outputs": [],
   "source": []
  },
  {
   "cell_type": "code",
   "execution_count": null,
   "metadata": {},
   "outputs": [],
   "source": []
  }
 ],
 "metadata": {
  "kernelspec": {
   "display_name": "Python 3 (ipykernel)",
   "language": "python",
   "name": "python3"
  },
  "language_info": {
   "codemirror_mode": {
    "name": "ipython",
    "version": 3
   },
   "file_extension": ".py",
   "mimetype": "text/x-python",
   "name": "python",
   "nbconvert_exporter": "python",
   "pygments_lexer": "ipython3",
   "version": "3.9.9"
  }
 },
 "nbformat": 4,
 "nbformat_minor": 4
}
